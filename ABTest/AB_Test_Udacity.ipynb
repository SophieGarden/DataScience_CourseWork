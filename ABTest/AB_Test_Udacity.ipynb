{
 "cells": [
  {
   "cell_type": "code",
   "execution_count": 52,
   "metadata": {},
   "outputs": [],
   "source": [
    "import pandas as pd\n",
    "import numpy as np\n",
    "import matplotlib.pyplot as plt"
   ]
  },
  {
   "cell_type": "code",
   "execution_count": 2,
   "metadata": {},
   "outputs": [
    {
     "data": {
      "text/html": [
       "<div>\n",
       "<style scoped>\n",
       "    .dataframe tbody tr th:only-of-type {\n",
       "        vertical-align: middle;\n",
       "    }\n",
       "\n",
       "    .dataframe tbody tr th {\n",
       "        vertical-align: top;\n",
       "    }\n",
       "\n",
       "    .dataframe thead th {\n",
       "        text-align: right;\n",
       "    }\n",
       "</style>\n",
       "<table border=\"1\" class=\"dataframe\">\n",
       "  <thead>\n",
       "    <tr style=\"text-align: right;\">\n",
       "      <th></th>\n",
       "      <th>Name</th>\n",
       "      <th>Val</th>\n",
       "    </tr>\n",
       "  </thead>\n",
       "  <tbody>\n",
       "    <tr>\n",
       "      <th>0</th>\n",
       "      <td>Unique cookies to view course overview page pe...</td>\n",
       "      <td>40000.000000</td>\n",
       "    </tr>\n",
       "    <tr>\n",
       "      <th>1</th>\n",
       "      <td>Unique cookies to click \"Start free trial\" per...</td>\n",
       "      <td>3200.000000</td>\n",
       "    </tr>\n",
       "    <tr>\n",
       "      <th>2</th>\n",
       "      <td>Enrollments per day:</td>\n",
       "      <td>660.000000</td>\n",
       "    </tr>\n",
       "    <tr>\n",
       "      <th>3</th>\n",
       "      <td>Click-through-probability on \"Start free trial\":</td>\n",
       "      <td>0.080000</td>\n",
       "    </tr>\n",
       "    <tr>\n",
       "      <th>4</th>\n",
       "      <td>Probability of enrolling, given click:</td>\n",
       "      <td>0.206250</td>\n",
       "    </tr>\n",
       "    <tr>\n",
       "      <th>5</th>\n",
       "      <td>Probability of payment, given enroll:</td>\n",
       "      <td>0.530000</td>\n",
       "    </tr>\n",
       "    <tr>\n",
       "      <th>6</th>\n",
       "      <td>Probability of payment, given click</td>\n",
       "      <td>0.109313</td>\n",
       "    </tr>\n",
       "  </tbody>\n",
       "</table>\n",
       "</div>"
      ],
      "text/plain": [
       "                                                Name           Val\n",
       "0  Unique cookies to view course overview page pe...  40000.000000\n",
       "1  Unique cookies to click \"Start free trial\" per...   3200.000000\n",
       "2                               Enrollments per day:    660.000000\n",
       "3   Click-through-probability on \"Start free trial\":      0.080000\n",
       "4             Probability of enrolling, given click:      0.206250\n",
       "5              Probability of payment, given enroll:      0.530000\n",
       "6                Probability of payment, given click      0.109313"
      ]
     },
     "execution_count": 2,
     "metadata": {},
     "output_type": "execute_result"
    }
   ],
   "source": [
    "df_baseVal = pd.read_csv('Udacity_ABTest_BaselineValues.csv', header = None, names = ['Name','Val'])\n",
    "df_baseVal"
   ]
  },
  {
   "cell_type": "code",
   "execution_count": 19,
   "metadata": {},
   "outputs": [
    {
     "name": "stdout",
     "output_type": "stream",
     "text": [
      "Analytical Estimate of SE of Gross conversion, Retention, Net conversion: [0.0202, 0.025, 0.0156]\n"
     ]
    }
   ],
   "source": [
    "#Given sample size of 5000 cookies, the standard deviations of Gross conversion, Retention, Net conversion\n",
    "#binomial distribution, SE = sqrt(p*(1-p)/N) round to 4-digit\n",
    "p_list = [df_baseVal['Val'][4], df_baseVal['Val'][5], df_baseVal['Val'][6]]\n",
    "print('Analytical Estimate of SE of Gross conversion, Retention, Net conversion:', [round(np.sqrt(p*(1-p)/400),4) for p in p_list])"
   ]
  },
  {
   "cell_type": "code",
   "execution_count": 84,
   "metadata": {
    "scrolled": true
   },
   "outputs": [],
   "source": [
    "#sample size in unit of number of clicks / enrolls\n",
    "# pooled sample standard error: SE = sqrt(p*(1-p)/(1/N1 + 2/N2)),here N1 = N2 = N\n",
    "# alpha = 0.5, considering two tailed Bonferroni correction, alpha = 0.5/2/2 = 0.125, corresponding Z score = 2.24\n",
    "# alpha was originally calculated as 0.5/3/2, but later the rentention was not used since it requires to0 large sample sizes\n",
    "# beta = 0.2, power = 0.8, corresponding to Z score = 0.84\n",
    "# sample size doulbe since need two, one for control, one for experiment\n",
    "Z_total = 2.24 + 0.84\n",
    "d_list = [0.01, 0.01, 0.0075]\n",
    "size_unit=[round(Z_total**2*p*(1-p)*2/d**2)*2 for p,d in list(zip(p_list, d_list))]"
   ]
  },
  {
   "cell_type": "code",
   "execution_count": 85,
   "metadata": {},
   "outputs": [
    {
     "data": {
      "text/plain": [
       "[776525.0, 5728606.0, 821000.0]"
      ]
     },
     "execution_count": 85,
     "metadata": {},
     "output_type": "execute_result"
    }
   ],
   "source": [
    "# factor to pageviews\n",
    "ratio = [df_baseVal['Val'][0]/df_baseVal['Val'][1],df_baseVal['Val'][0]/df_baseVal['Val'][2],df_baseVal['Val'][0]/df_baseVal['Val'][1]]\n",
    "size_pageviews = np.round(np.array(size_unit) * np.array(ratio))\n",
    "list(size_pageviews)"
   ]
  },
  {
   "cell_type": "code",
   "execution_count": 73,
   "metadata": {},
   "outputs": [
    {
     "name": "stdout",
     "output_type": "stream",
     "text": [
      "821000.0\n"
     ]
    }
   ],
   "source": [
    "#Gross conversion, Retention, Net conversion, with alpha = 0.5/2/2\n",
    "size_pageviews_needed = max(size_pageviews[0],size_pageviews[2])\n",
    "print(size_pageviews_needed)"
   ]
  },
  {
   "cell_type": "code",
   "execution_count": 74,
   "metadata": {},
   "outputs": [
    {
     "name": "stdout",
     "output_type": "stream",
     "text": [
      "26.0\n"
     ]
    }
   ],
   "source": [
    "fraction_traffic = 0.8\n",
    "days_needed = round(size_pageviews_needed/fraction_traffic/40000)\n",
    "print(days_needed)"
   ]
  },
  {
   "cell_type": "code",
   "execution_count": 3,
   "metadata": {},
   "outputs": [
    {
     "data": {
      "text/html": [
       "<div>\n",
       "<style scoped>\n",
       "    .dataframe tbody tr th:only-of-type {\n",
       "        vertical-align: middle;\n",
       "    }\n",
       "\n",
       "    .dataframe tbody tr th {\n",
       "        vertical-align: top;\n",
       "    }\n",
       "\n",
       "    .dataframe thead th {\n",
       "        text-align: right;\n",
       "    }\n",
       "</style>\n",
       "<table border=\"1\" class=\"dataframe\">\n",
       "  <thead>\n",
       "    <tr style=\"text-align: right;\">\n",
       "      <th></th>\n",
       "      <th>Pageviews</th>\n",
       "      <th>Clicks</th>\n",
       "      <th>Enrollments</th>\n",
       "      <th>Payments</th>\n",
       "    </tr>\n",
       "  </thead>\n",
       "  <tbody>\n",
       "    <tr>\n",
       "      <th>count</th>\n",
       "      <td>37.000000</td>\n",
       "      <td>37.000000</td>\n",
       "      <td>23.000000</td>\n",
       "      <td>23.000000</td>\n",
       "    </tr>\n",
       "    <tr>\n",
       "      <th>mean</th>\n",
       "      <td>9315.135135</td>\n",
       "      <td>765.540541</td>\n",
       "      <td>148.826087</td>\n",
       "      <td>84.565217</td>\n",
       "    </tr>\n",
       "    <tr>\n",
       "      <th>std</th>\n",
       "      <td>708.070781</td>\n",
       "      <td>64.578374</td>\n",
       "      <td>33.234227</td>\n",
       "      <td>23.060841</td>\n",
       "    </tr>\n",
       "    <tr>\n",
       "      <th>min</th>\n",
       "      <td>7664.000000</td>\n",
       "      <td>642.000000</td>\n",
       "      <td>94.000000</td>\n",
       "      <td>34.000000</td>\n",
       "    </tr>\n",
       "    <tr>\n",
       "      <th>25%</th>\n",
       "      <td>8881.000000</td>\n",
       "      <td>722.000000</td>\n",
       "      <td>127.000000</td>\n",
       "      <td>69.000000</td>\n",
       "    </tr>\n",
       "    <tr>\n",
       "      <th>50%</th>\n",
       "      <td>9359.000000</td>\n",
       "      <td>770.000000</td>\n",
       "      <td>142.000000</td>\n",
       "      <td>91.000000</td>\n",
       "    </tr>\n",
       "    <tr>\n",
       "      <th>75%</th>\n",
       "      <td>9737.000000</td>\n",
       "      <td>827.000000</td>\n",
       "      <td>172.000000</td>\n",
       "      <td>99.000000</td>\n",
       "    </tr>\n",
       "    <tr>\n",
       "      <th>max</th>\n",
       "      <td>10551.000000</td>\n",
       "      <td>884.000000</td>\n",
       "      <td>213.000000</td>\n",
       "      <td>123.000000</td>\n",
       "    </tr>\n",
       "  </tbody>\n",
       "</table>\n",
       "</div>"
      ],
      "text/plain": [
       "          Pageviews      Clicks  Enrollments    Payments\n",
       "count     37.000000   37.000000    23.000000   23.000000\n",
       "mean    9315.135135  765.540541   148.826087   84.565217\n",
       "std      708.070781   64.578374    33.234227   23.060841\n",
       "min     7664.000000  642.000000    94.000000   34.000000\n",
       "25%     8881.000000  722.000000   127.000000   69.000000\n",
       "50%     9359.000000  770.000000   142.000000   91.000000\n",
       "75%     9737.000000  827.000000   172.000000   99.000000\n",
       "max    10551.000000  884.000000   213.000000  123.000000"
      ]
     },
     "execution_count": 3,
     "metadata": {},
     "output_type": "execute_result"
    }
   ],
   "source": [
    "#sanity check\n",
    "df_exp = pd.read_csv('Udacity_ABTest_ExpData.csv')\n",
    "df_con = pd.read_csv('Udacity_ABTest_ControlData.csv')\n",
    "df_exp.describe()"
   ]
  },
  {
   "cell_type": "code",
   "execution_count": 88,
   "metadata": {},
   "outputs": [
    {
     "data": {
      "text/plain": [
       "Date           Sat, Oct 11Sun, Oct 12Mon, Oct 13Tue, Oct 14We...\n",
       "Pageviews                                                 345543\n",
       "Clicks                                                     28378\n",
       "Enrollments                                                 3785\n",
       "Payments                                                    2033\n",
       "dtype: object"
      ]
     },
     "execution_count": 88,
     "metadata": {},
     "output_type": "execute_result"
    }
   ],
   "source": [
    "df_con.sum()"
   ]
  },
  {
   "cell_type": "code",
   "execution_count": 89,
   "metadata": {},
   "outputs": [],
   "source": [
    "d = {'control': df_con.sum().iloc[1:], 'exp': df_exp.sum().iloc[1:]}\n",
    "df = pd.DataFrame(data = d)"
   ]
  },
  {
   "cell_type": "code",
   "execution_count": 90,
   "metadata": {
    "scrolled": true
   },
   "outputs": [
    {
     "data": {
      "text/html": [
       "<div>\n",
       "<style scoped>\n",
       "    .dataframe tbody tr th:only-of-type {\n",
       "        vertical-align: middle;\n",
       "    }\n",
       "\n",
       "    .dataframe tbody tr th {\n",
       "        vertical-align: top;\n",
       "    }\n",
       "\n",
       "    .dataframe thead th {\n",
       "        text-align: right;\n",
       "    }\n",
       "</style>\n",
       "<table border=\"1\" class=\"dataframe\">\n",
       "  <thead>\n",
       "    <tr style=\"text-align: right;\">\n",
       "      <th></th>\n",
       "      <th>control</th>\n",
       "      <th>exp</th>\n",
       "      <th>total_counts</th>\n",
       "      <th>p_expected</th>\n",
       "      <th>p_observed</th>\n",
       "      <th>SE</th>\n",
       "      <th>margin</th>\n",
       "      <th>CI_low</th>\n",
       "      <th>CI_upp</th>\n",
       "      <th>sanity_pass?</th>\n",
       "    </tr>\n",
       "  </thead>\n",
       "  <tbody>\n",
       "    <tr>\n",
       "      <th>Pageviews</th>\n",
       "      <td>345543</td>\n",
       "      <td>344660</td>\n",
       "      <td>690203</td>\n",
       "      <td>0.5</td>\n",
       "      <td>0.500640</td>\n",
       "      <td>0.000602</td>\n",
       "      <td>0.001180</td>\n",
       "      <td>0.498820</td>\n",
       "      <td>0.501180</td>\n",
       "      <td>True</td>\n",
       "    </tr>\n",
       "    <tr>\n",
       "      <th>Clicks</th>\n",
       "      <td>28378</td>\n",
       "      <td>28325</td>\n",
       "      <td>56703</td>\n",
       "      <td>0.5</td>\n",
       "      <td>0.500467</td>\n",
       "      <td>0.002100</td>\n",
       "      <td>0.004116</td>\n",
       "      <td>0.495884</td>\n",
       "      <td>0.504116</td>\n",
       "      <td>True</td>\n",
       "    </tr>\n",
       "    <tr>\n",
       "      <th>Enrollments</th>\n",
       "      <td>3785</td>\n",
       "      <td>3423</td>\n",
       "      <td>7208</td>\n",
       "      <td>0.5</td>\n",
       "      <td>0.525111</td>\n",
       "      <td>0.005889</td>\n",
       "      <td>0.011543</td>\n",
       "      <td>0.488457</td>\n",
       "      <td>0.511543</td>\n",
       "      <td>False</td>\n",
       "    </tr>\n",
       "    <tr>\n",
       "      <th>Payments</th>\n",
       "      <td>2033</td>\n",
       "      <td>1945</td>\n",
       "      <td>3978</td>\n",
       "      <td>0.5</td>\n",
       "      <td>0.511061</td>\n",
       "      <td>0.007928</td>\n",
       "      <td>0.015538</td>\n",
       "      <td>0.484462</td>\n",
       "      <td>0.515538</td>\n",
       "      <td>True</td>\n",
       "    </tr>\n",
       "  </tbody>\n",
       "</table>\n",
       "</div>"
      ],
      "text/plain": [
       "             control     exp  total_counts  p_expected  p_observed        SE  \\\n",
       "Pageviews     345543  344660        690203         0.5    0.500640  0.000602   \n",
       "Clicks         28378   28325         56703         0.5    0.500467  0.002100   \n",
       "Enrollments     3785    3423          7208         0.5    0.525111  0.005889   \n",
       "Payments        2033    1945          3978         0.5    0.511061  0.007928   \n",
       "\n",
       "               margin    CI_low    CI_upp  sanity_pass?  \n",
       "Pageviews    0.001180  0.498820  0.501180          True  \n",
       "Clicks       0.004116  0.495884  0.504116          True  \n",
       "Enrollments  0.011543  0.488457  0.511543         False  \n",
       "Payments     0.015538  0.484462  0.515538          True  "
      ]
     },
     "execution_count": 90,
     "metadata": {},
     "output_type": "execute_result"
    }
   ],
   "source": [
    "df[['control', 'exp']] = df[['control','exp']].apply(pd.to_numeric)\n",
    "df['total_counts'] = df.control + df.exp\n",
    "df['p_expected'] = 0.5\n",
    "df['p_observed'] = df.control.div(df.total_counts)\n",
    "df['SE'] = (df.p_expected * (1-df.p_expected)/df.total_counts).pow(.5)\n",
    "df['margin'] = df.SE * 1.96\n",
    "df['CI_low'] = df.p_expected - df.margin\n",
    "df['CI_upp'] = df.p_expected + df.margin\n",
    "df['sanity_pass?'] = (df.p_observed > df.CI_low) & (df.p_observed < df.CI_upp)\n",
    "df"
   ]
  },
  {
   "cell_type": "code",
   "execution_count": 100,
   "metadata": {},
   "outputs": [
    {
     "name": "stdout",
     "output_type": "stream",
     "text": [
      "CTP expected: 0.0821 CTP observed: 0.0822 CI: 0.0812 0.083\n",
      "CTP Sanity: True\n"
     ]
    }
   ],
   "source": [
    "# CTP sanity check CTP = Clicks/Pageviews for UNIQUE cookies\n",
    "p_ctp_expected = df.control.Clicks /df.control.Pageviews\n",
    "p_ctp_observed = df.exp.Clicks /df.exp.Pageviews\n",
    "SE_ctp = np.sqrt(p_ctp_expected*(1-p_ctp_expected)/df.control.Pageviews) #binomial\n",
    "CI_ctp_low = p_ctp_expected - 1.96*SE_ctp\n",
    "CI_ctp_upp = p_ctp_expected + 1.96*SE_ctp\n",
    "print('CTP expected',round(p_ctp_expected,4),'CTP observed:', round(p_ctp_observed,4), 'CI:', round(CI_ctp_low,4), round(CI_ctp_upp,4))\n",
    "print('CTP Sanity:', CI_ctp_low < p_ctp_observed < CI_ctp_upp)"
   ]
  },
  {
   "cell_type": "code",
   "execution_count": 9,
   "metadata": {
    "scrolled": true
   },
   "outputs": [
    {
     "data": {
      "text/html": [
       "<div>\n",
       "<style scoped>\n",
       "    .dataframe tbody tr th:only-of-type {\n",
       "        vertical-align: middle;\n",
       "    }\n",
       "\n",
       "    .dataframe tbody tr th {\n",
       "        vertical-align: top;\n",
       "    }\n",
       "\n",
       "    .dataframe thead th {\n",
       "        text-align: right;\n",
       "    }\n",
       "</style>\n",
       "<table border=\"1\" class=\"dataframe\">\n",
       "  <thead>\n",
       "    <tr style=\"text-align: right;\">\n",
       "      <th></th>\n",
       "      <th>con_click</th>\n",
       "      <th>con_enroll</th>\n",
       "      <th>con_pay</th>\n",
       "      <th>exp_click</th>\n",
       "      <th>exp_enroll</th>\n",
       "      <th>exp_pay</th>\n",
       "    </tr>\n",
       "  </thead>\n",
       "  <tbody>\n",
       "    <tr>\n",
       "      <th>0</th>\n",
       "      <td>687</td>\n",
       "      <td>134.0</td>\n",
       "      <td>70.0</td>\n",
       "      <td>686</td>\n",
       "      <td>105.0</td>\n",
       "      <td>34.0</td>\n",
       "    </tr>\n",
       "    <tr>\n",
       "      <th>1</th>\n",
       "      <td>779</td>\n",
       "      <td>147.0</td>\n",
       "      <td>70.0</td>\n",
       "      <td>785</td>\n",
       "      <td>116.0</td>\n",
       "      <td>91.0</td>\n",
       "    </tr>\n",
       "    <tr>\n",
       "      <th>2</th>\n",
       "      <td>909</td>\n",
       "      <td>167.0</td>\n",
       "      <td>95.0</td>\n",
       "      <td>884</td>\n",
       "      <td>145.0</td>\n",
       "      <td>79.0</td>\n",
       "    </tr>\n",
       "    <tr>\n",
       "      <th>3</th>\n",
       "      <td>836</td>\n",
       "      <td>156.0</td>\n",
       "      <td>105.0</td>\n",
       "      <td>827</td>\n",
       "      <td>138.0</td>\n",
       "      <td>92.0</td>\n",
       "    </tr>\n",
       "    <tr>\n",
       "      <th>4</th>\n",
       "      <td>837</td>\n",
       "      <td>163.0</td>\n",
       "      <td>64.0</td>\n",
       "      <td>832</td>\n",
       "      <td>140.0</td>\n",
       "      <td>94.0</td>\n",
       "    </tr>\n",
       "  </tbody>\n",
       "</table>\n",
       "</div>"
      ],
      "text/plain": [
       "   con_click  con_enroll  con_pay  exp_click  exp_enroll  exp_pay\n",
       "0        687       134.0     70.0        686       105.0     34.0\n",
       "1        779       147.0     70.0        785       116.0     91.0\n",
       "2        909       167.0     95.0        884       145.0     79.0\n",
       "3        836       156.0    105.0        827       138.0     92.0\n",
       "4        837       163.0     64.0        832       140.0     94.0"
      ]
     },
     "execution_count": 9,
     "metadata": {},
     "output_type": "execute_result"
    }
   ],
   "source": [
    "d_effect = {'con_click': df_con.Clicks, 'con_enroll':df_con.Enrollments, 'con_pay':df_con.Payments,\n",
    "     'exp_click': df_exp.Clicks, 'exp_enroll':df_exp.Enrollments, 'exp_pay':df_exp.Payments}\n",
    "df_effect = pd.DataFrame(data = d_effect)\n",
    "df_effect.head()"
   ]
  },
  {
   "cell_type": "code",
   "execution_count": 10,
   "metadata": {},
   "outputs": [
    {
     "data": {
      "text/plain": [
       "(23, 6)"
      ]
     },
     "execution_count": 10,
     "metadata": {},
     "output_type": "execute_result"
    }
   ],
   "source": [
    "df_effect.dropna(axis=0, how='any', inplace = True)\n",
    "df_effect.shape"
   ]
  },
  {
   "cell_type": "code",
   "execution_count": 72,
   "metadata": {},
   "outputs": [],
   "source": [
    "#empirical deviations\n",
    "df_combine = pd.DataFrame(pd.concat([df_effect.con_click, df_effect.exp_click], ignore_index = True), \\\n",
    "                          columns = ['click'])\n",
    "df_combine['enroll'] = pd.concat([df_effect.con_enroll, df_effect.exp_enroll], ignore_index = True)\n",
    "df_combine['pay']= pd.concat([df_effect.con_pay, df_effect.exp_pay], ignore_index = True)"
   ]
  },
  {
   "cell_type": "code",
   "execution_count": 82,
   "metadata": {
    "scrolled": true
   },
   "outputs": [
    {
     "data": {
      "text/plain": [
       "click         72.9213\n",
       "enroll        32.2896\n",
       "pay           21.7304\n",
       "renetation     0.1122\n",
       "net_conv       0.0306\n",
       "gross_conv     0.0465\n",
       "dtype: float64"
      ]
     },
     "execution_count": 82,
     "metadata": {},
     "output_type": "execute_result"
    }
   ],
   "source": [
    "df_combine['gross_conv'] = df_combine.enroll / df_combine.click\n",
    "df_combine['renetation'] = df_combine.pay / df_combine.enroll\n",
    "df_combine['net_conv'] = df_combine.pay / df_combine.click\n",
    "# df_combine.drop(columns = ['gross'], inplace = True)\n",
    "round(df_combine.std(),4)"
   ]
  },
  {
   "cell_type": "code",
   "execution_count": 80,
   "metadata": {
    "scrolled": true
   },
   "outputs": [
    {
     "data": {
      "text/plain": [
       "<Figure size 2160x2160 with 0 Axes>"
      ]
     },
     "metadata": {},
     "output_type": "display_data"
    },
    {
     "data": {
      "image/png": "[encoded data removed]",
      "text/plain": [
       "<Figure size 432x288 with 6 Axes>"
      ]
     },
     "metadata": {},
     "output_type": "display_data"
    }
   ],
   "source": [
    "plt.figure(figsize=(30,30))\n",
    "df_combine.hist()\n",
    "plt.tight_layout(pad=0.4, w_pad=0.5, h_pad=1.0)"
   ]
  },
  {
   "cell_type": "code",
   "execution_count": 199,
   "metadata": {
    "scrolled": true
   },
   "outputs": [
    {
     "data": {
      "text/plain": [
       "con_click     17293.0\n",
       "con_enroll     3785.0\n",
       "con_pay        2033.0\n",
       "exp_click     17260.0\n",
       "exp_enroll     3423.0\n",
       "exp_pay        1945.0\n",
       "dtype: float64"
      ]
     },
     "execution_count": 199,
     "metadata": {},
     "output_type": "execute_result"
    }
   ],
   "source": [
    "df_effect.sum()"
   ]
  },
  {
   "cell_type": "code",
   "execution_count": 196,
   "metadata": {},
   "outputs": [
    {
     "data": {
      "text/plain": [
       "17293.0"
      ]
     },
     "execution_count": 196,
     "metadata": {},
     "output_type": "execute_result"
    }
   ],
   "source": [
    "df_effect.sum().con_click"
   ]
  },
  {
   "cell_type": "code",
   "execution_count": 102,
   "metadata": {},
   "outputs": [],
   "source": [
    "#Effect Size Tests\n",
    "#Gross conversion = enroll/click\n",
    "#Net conversion = pay/click\n",
    "d_ci = {'val_con':[df_effect.sum().con_enroll/df_effect.sum().con_click, df_effect.sum().con_pay/df_effect.sum().con_click],\\\n",
    "         'val_exp':[df_effect.sum().exp_enroll/df_effect.sum().exp_click, df_effect.sum().exp_pay/df_effect.sum().exp_click],\\\n",
    "         'val_avg':[(df_effect.sum().con_enroll+df_effect.sum().exp_enroll)/(df_effect.sum().con_click+df_effect.sum().exp_click), \\\n",
    "                    (df_effect.sum().con_pay+df_effect.sum().exp_pay)/(df_effect.sum().con_click+df_effect.sum().exp_click)]}\n",
    "df_ci= pd.DataFrame(data = d_ci)\n",
    "df_ci.rename({0:'gross', 1:'net'}, axis = 'index', inplace = True)"
   ]
  },
  {
   "cell_type": "code",
   "execution_count": 103,
   "metadata": {},
   "outputs": [],
   "source": [
    "df_ci['v_diff'] = df_ci.val_exp - df_ci.val_con\n",
    "df_ci['SE'] =  np.sqrt(df_ci.val_avg * (1- df_ci.val_avg) *(1/df_effect.sum().con_click + 1/df_effect.sum().exp_click))\n",
    "df_ci['margin'] = 2.24*df_ci.SE  #alpha = 0.05/2/2"
   ]
  },
  {
   "cell_type": "code",
   "execution_count": 104,
   "metadata": {
    "scrolled": true
   },
   "outputs": [],
   "source": [
    "df_ci['ci_low'] = df_ci.v_diff - df_ci.margin\n",
    "df_ci['ci_upp'] = df_ci.v_diff + df_ci.margin\n",
    "df_ci['statistic_significance'] = df_ci.ci_low * df_ci.ci_upp > 0\n",
    "df_ci['practical_significance'] = [(df_ci.ci_low.gross * df_ci.ci_upp.gross > 0) and (min(abs(df_ci.ci_low.gross), abs(df_ci.ci_upp.gross))>=0.01),\\\n",
    "(df_ci.ci_low.net * df_ci.ci_upp.net > 0) and (min(abs(df_ci.ci_low.net), abs(df_ci.ci_upp.net)) > 0.0075)]"
   ]
  },
  {
   "cell_type": "code",
   "execution_count": 105,
   "metadata": {},
   "outputs": [],
   "source": [
    "df_ci['test']= [1,2]\n",
    "df_ci.drop(columns = 'test', inplace = True)"
   ]
  },
  {
   "cell_type": "code",
   "execution_count": 106,
   "metadata": {},
   "outputs": [
    {
     "data": {
      "text/html": [
       "<div>\n",
       "<style scoped>\n",
       "    .dataframe tbody tr th:only-of-type {\n",
       "        vertical-align: middle;\n",
       "    }\n",
       "\n",
       "    .dataframe tbody tr th {\n",
       "        vertical-align: top;\n",
       "    }\n",
       "\n",
       "    .dataframe thead th {\n",
       "        text-align: right;\n",
       "    }\n",
       "</style>\n",
       "<table border=\"1\" class=\"dataframe\">\n",
       "  <thead>\n",
       "    <tr style=\"text-align: right;\">\n",
       "      <th></th>\n",
       "      <th>val_con</th>\n",
       "      <th>val_exp</th>\n",
       "      <th>val_avg</th>\n",
       "      <th>v_diff</th>\n",
       "      <th>SE</th>\n",
       "      <th>margin</th>\n",
       "      <th>ci_low</th>\n",
       "      <th>ci_upp</th>\n",
       "      <th>statistic_significance</th>\n",
       "      <th>practical_significance</th>\n",
       "    </tr>\n",
       "  </thead>\n",
       "  <tbody>\n",
       "    <tr>\n",
       "      <th>gross</th>\n",
       "      <td>0.218875</td>\n",
       "      <td>0.198320</td>\n",
       "      <td>0.208607</td>\n",
       "      <td>-0.020555</td>\n",
       "      <td>0.004372</td>\n",
       "      <td>0.009793</td>\n",
       "      <td>-0.030347</td>\n",
       "      <td>-0.010762</td>\n",
       "      <td>True</td>\n",
       "      <td>True</td>\n",
       "    </tr>\n",
       "    <tr>\n",
       "      <th>net</th>\n",
       "      <td>0.117562</td>\n",
       "      <td>0.112688</td>\n",
       "      <td>0.115127</td>\n",
       "      <td>-0.004874</td>\n",
       "      <td>0.003434</td>\n",
       "      <td>0.007692</td>\n",
       "      <td>-0.012566</td>\n",
       "      <td>0.002819</td>\n",
       "      <td>False</td>\n",
       "      <td>False</td>\n",
       "    </tr>\n",
       "  </tbody>\n",
       "</table>\n",
       "</div>"
      ],
      "text/plain": [
       "        val_con   val_exp   val_avg    v_diff        SE    margin    ci_low  \\\n",
       "gross  0.218875  0.198320  0.208607 -0.020555  0.004372  0.009793 -0.030347   \n",
       "net    0.117562  0.112688  0.115127 -0.004874  0.003434  0.007692 -0.012566   \n",
       "\n",
       "         ci_upp  statistic_significance  practical_significance  \n",
       "gross -0.010762                    True                    True  \n",
       "net    0.002819                   False                   False  "
      ]
     },
     "execution_count": 106,
     "metadata": {},
     "output_type": "execute_result"
    }
   ],
   "source": [
    "df_ci"
   ]
  },
  {
   "cell_type": "code",
   "execution_count": 267,
   "metadata": {
    "scrolled": true
   },
   "outputs": [
    {
     "data": {
      "text/plain": [
       "con_click     19\n",
       "con_enroll    19\n",
       "con_pay       19\n",
       "exp_click     19\n",
       "exp_enroll    19\n",
       "exp_pay       19\n",
       "dtype: int64"
      ]
     },
     "execution_count": 267,
     "metadata": {},
     "output_type": "execute_result"
    }
   ],
   "source": [
    "#sign test, combine the possibilities of observing 19 or more successes in 23 trials\n",
    "df_effect[df_effect.con_enroll > df_effect.exp_enroll].count()"
   ]
  },
  {
   "cell_type": "markdown",
   "metadata": {},
   "source": [
    "Sign and binomial test\n",
    "Number of \"successes\": 19 \n",
    "Number of trials (or subjects) per experiment: 23 \n",
    "Sign test. If the probability of \"success\" in each trial or subject is 0.500, then:\n",
    "The one-tail P value is 0.0013 \n",
    "This is the chance of observing 19 or more successes in 23 trials.\n",
    "The two-tail P value is 0.0026 \n",
    "This is the chance of observing either 19 or more successes, or 4 or fewer successes, in 23 trials."
   ]
  },
  {
   "cell_type": "code",
   "execution_count": 269,
   "metadata": {},
   "outputs": [
    {
     "data": {
      "text/plain": [
       "con_click     13\n",
       "con_enroll    13\n",
       "con_pay       13\n",
       "exp_click     13\n",
       "exp_enroll    13\n",
       "exp_pay       13\n",
       "dtype: int64"
      ]
     },
     "execution_count": 269,
     "metadata": {},
     "output_type": "execute_result"
    }
   ],
   "source": [
    "df_effect[df_effect.con_pay > df_effect.exp_pay].count()"
   ]
  },
  {
   "cell_type": "markdown",
   "metadata": {},
   "source": [
    "Sign and binomial test\n",
    "Number of \"successes\": 13 \n",
    "Number of trials (or subjects) per experiment: 23 \n",
    "Sign test. If the probability of \"success\" in each trial or subject is 0.500, then:\n",
    "The one-tail P value is 0.3388 \n",
    "This is the chance of observing 13 or more successes in 23 trials.\n",
    "The two-tail P value is 0.6776 \n",
    "This is the chance of observing either 13 or more successes, or 10 or fewer successes, in 23 trials."
   ]
  }
 ],
 "metadata": {
  "kernelspec": {
   "display_name": "Python 3",
   "language": "python",
   "name": "python3"
  },
  "language_info": {
   "codemirror_mode": {
    "name": "ipython",
    "version": 3
   },
   "file_extension": ".py",
   "mimetype": "text/x-python",
   "name": "python",
   "nbconvert_exporter": "python",
   "pygments_lexer": "ipython3",
   "version": "3.7.0"
  }
 },
 "nbformat": 4,
 "nbformat_minor": 2
}
