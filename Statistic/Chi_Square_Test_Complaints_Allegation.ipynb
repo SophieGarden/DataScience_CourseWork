{
 "cells": [
  {
   "cell_type": "code",
   "execution_count": 1,
   "metadata": {},
   "outputs": [],
   "source": [
    "import numpy as np\n",
    "import pandas as pd\n",
    "from sklearn import linear_model\n",
    "import matplotlib.pyplot as plt\n",
    "from scipy import stats"
   ]
  },
  {
   "cell_type": "code",
   "execution_count": 2,
   "metadata": {},
   "outputs": [],
   "source": [
    "df_all = pd.read_excel('ccrb_datatransparencyinitiative_20170207.xlsx',sheet_name = 'Complaints_Allegations')"
   ]
  },
  {
   "cell_type": "code",
   "execution_count": 3,
   "metadata": {},
   "outputs": [],
   "source": [
    "columns = df_all.columns\n",
    "renames = {}\n",
    "for col in columns:\n",
    "    newCol = col.replace('&','')\n",
    "    renames[col] = newCol.replace(' ', '_')\n",
    "df_all = df_all.rename(columns=renames)"
   ]
  },
  {
   "cell_type": "code",
   "execution_count": 4,
   "metadata": {
    "scrolled": true
   },
   "outputs": [
    {
     "data": {
      "text/html": [
       "<div>\n",
       "<style scoped>\n",
       "    .dataframe tbody tr th:only-of-type {\n",
       "        vertical-align: middle;\n",
       "    }\n",
       "\n",
       "    .dataframe tbody tr th {\n",
       "        vertical-align: top;\n",
       "    }\n",
       "\n",
       "    .dataframe thead th {\n",
       "        text-align: right;\n",
       "    }\n",
       "</style>\n",
       "<table border=\"1\" class=\"dataframe\">\n",
       "  <thead>\n",
       "    <tr style=\"text-align: right;\">\n",
       "      <th></th>\n",
       "      <th>UniqueComplaintId</th>\n",
       "      <th>Close_Year</th>\n",
       "      <th>Received_Year</th>\n",
       "      <th>Incident_Year</th>\n",
       "    </tr>\n",
       "  </thead>\n",
       "  <tbody>\n",
       "    <tr>\n",
       "      <th>count</th>\n",
       "      <td>206718.000000</td>\n",
       "      <td>206718.000000</td>\n",
       "      <td>206718.000000</td>\n",
       "      <td>206718.000000</td>\n",
       "    </tr>\n",
       "    <tr>\n",
       "      <th>mean</th>\n",
       "      <td>35213.534061</td>\n",
       "      <td>2010.471294</td>\n",
       "      <td>2009.885878</td>\n",
       "      <td>2009.854526</td>\n",
       "    </tr>\n",
       "    <tr>\n",
       "      <th>std</th>\n",
       "      <td>20297.666987</td>\n",
       "      <td>3.162415</td>\n",
       "      <td>3.252095</td>\n",
       "      <td>3.250565</td>\n",
       "    </tr>\n",
       "    <tr>\n",
       "      <th>min</th>\n",
       "      <td>1.000000</td>\n",
       "      <td>2006.000000</td>\n",
       "      <td>1999.000000</td>\n",
       "      <td>1999.000000</td>\n",
       "    </tr>\n",
       "    <tr>\n",
       "      <th>25%</th>\n",
       "      <td>17578.000000</td>\n",
       "      <td>2008.000000</td>\n",
       "      <td>2007.000000</td>\n",
       "      <td>2007.000000</td>\n",
       "    </tr>\n",
       "    <tr>\n",
       "      <th>50%</th>\n",
       "      <td>35261.500000</td>\n",
       "      <td>2010.000000</td>\n",
       "      <td>2009.000000</td>\n",
       "      <td>2009.000000</td>\n",
       "    </tr>\n",
       "    <tr>\n",
       "      <th>75%</th>\n",
       "      <td>52825.750000</td>\n",
       "      <td>2013.000000</td>\n",
       "      <td>2013.000000</td>\n",
       "      <td>2012.000000</td>\n",
       "    </tr>\n",
       "    <tr>\n",
       "      <th>max</th>\n",
       "      <td>70245.000000</td>\n",
       "      <td>2017.000000</td>\n",
       "      <td>2017.000000</td>\n",
       "      <td>2017.000000</td>\n",
       "    </tr>\n",
       "  </tbody>\n",
       "</table>\n",
       "</div>"
      ],
      "text/plain": [
       "       UniqueComplaintId     Close_Year  Received_Year  Incident_Year\n",
       "count      206718.000000  206718.000000  206718.000000  206718.000000\n",
       "mean        35213.534061    2010.471294    2009.885878    2009.854526\n",
       "std         20297.666987       3.162415       3.252095       3.250565\n",
       "min             1.000000    2006.000000    1999.000000    1999.000000\n",
       "25%         17578.000000    2008.000000    2007.000000    2007.000000\n",
       "50%         35261.500000    2010.000000    2009.000000    2009.000000\n",
       "75%         52825.750000    2013.000000    2013.000000    2012.000000\n",
       "max         70245.000000    2017.000000    2017.000000    2017.000000"
      ]
     },
     "execution_count": 4,
     "metadata": {},
     "output_type": "execute_result"
    }
   ],
   "source": [
    "df_all.describe()"
   ]
  },
  {
   "cell_type": "code",
   "execution_count": 5,
   "metadata": {},
   "outputs": [
    {
     "data": {
      "text/html": [
       "<div>\n",
       "<style scoped>\n",
       "    .dataframe tbody tr th:only-of-type {\n",
       "        vertical-align: middle;\n",
       "    }\n",
       "\n",
       "    .dataframe tbody tr th {\n",
       "        vertical-align: top;\n",
       "    }\n",
       "\n",
       "    .dataframe thead th {\n",
       "        text-align: right;\n",
       "    }\n",
       "</style>\n",
       "<table border=\"1\" class=\"dataframe\">\n",
       "  <thead>\n",
       "    <tr style=\"text-align: right;\">\n",
       "      <th></th>\n",
       "      <th>UniqueComplaintId</th>\n",
       "      <th>Close_Year</th>\n",
       "      <th>Received_Year</th>\n",
       "      <th>Incident_Year</th>\n",
       "    </tr>\n",
       "  </thead>\n",
       "  <tbody>\n",
       "    <tr>\n",
       "      <th>count</th>\n",
       "      <td>202390.000000</td>\n",
       "      <td>202390.000000</td>\n",
       "      <td>202390.000000</td>\n",
       "      <td>202390.000000</td>\n",
       "    </tr>\n",
       "    <tr>\n",
       "      <th>mean</th>\n",
       "      <td>35200.958560</td>\n",
       "      <td>2010.482351</td>\n",
       "      <td>2009.894881</td>\n",
       "      <td>2009.863521</td>\n",
       "    </tr>\n",
       "    <tr>\n",
       "      <th>std</th>\n",
       "      <td>20302.568241</td>\n",
       "      <td>3.163376</td>\n",
       "      <td>3.253213</td>\n",
       "      <td>3.251659</td>\n",
       "    </tr>\n",
       "    <tr>\n",
       "      <th>min</th>\n",
       "      <td>1.000000</td>\n",
       "      <td>2006.000000</td>\n",
       "      <td>1999.000000</td>\n",
       "      <td>1999.000000</td>\n",
       "    </tr>\n",
       "    <tr>\n",
       "      <th>25%</th>\n",
       "      <td>17539.000000</td>\n",
       "      <td>2008.000000</td>\n",
       "      <td>2007.000000</td>\n",
       "      <td>2007.000000</td>\n",
       "    </tr>\n",
       "    <tr>\n",
       "      <th>50%</th>\n",
       "      <td>35242.000000</td>\n",
       "      <td>2010.000000</td>\n",
       "      <td>2009.000000</td>\n",
       "      <td>2009.000000</td>\n",
       "    </tr>\n",
       "    <tr>\n",
       "      <th>75%</th>\n",
       "      <td>52834.750000</td>\n",
       "      <td>2013.000000</td>\n",
       "      <td>2013.000000</td>\n",
       "      <td>2013.000000</td>\n",
       "    </tr>\n",
       "    <tr>\n",
       "      <th>max</th>\n",
       "      <td>70245.000000</td>\n",
       "      <td>2017.000000</td>\n",
       "      <td>2017.000000</td>\n",
       "      <td>2017.000000</td>\n",
       "    </tr>\n",
       "  </tbody>\n",
       "</table>\n",
       "</div>"
      ],
      "text/plain": [
       "       UniqueComplaintId     Close_Year  Received_Year  Incident_Year\n",
       "count      202390.000000  202390.000000  202390.000000  202390.000000\n",
       "mean        35200.958560    2010.482351    2009.894881    2009.863521\n",
       "std         20302.568241       3.163376       3.253213       3.251659\n",
       "min             1.000000    2006.000000    1999.000000    1999.000000\n",
       "25%         17539.000000    2008.000000    2007.000000    2007.000000\n",
       "50%         35242.000000    2010.000000    2009.000000    2009.000000\n",
       "75%         52834.750000    2013.000000    2013.000000    2013.000000\n",
       "max         70245.000000    2017.000000    2017.000000    2017.000000"
      ]
     },
     "execution_count": 5,
     "metadata": {},
     "output_type": "execute_result"
    }
   ],
   "source": [
    "df = df_all.dropna(how = 'any', inplace = False)\n",
    "df.describe()"
   ]
  },
  {
   "cell_type": "markdown",
   "metadata": {},
   "source": [
    "The \"Complaints_Allegations\" sheet of this excel file contains data on all CCRB jurisdiction complaints closed in or after 2006.\n",
    "Some data in the Data Transparency Initiative reports on complaints received.\n",
    "\n",
    "Excel Column Descriptions:\n",
    "\n",
    "Column A: DateStamp - the date the file was created.\n",
    "Column B: UniqueComplaintId - a randomly assigned number used to uniquely identify distinct complaints. A single UniqueComplaintId may have multiple associated allegations.\n",
    "Column C: Close Year - the year the complaint was closed by the CCRB.\n",
    "Column D: CCRB Received Year - the year the complaint was received by the CCRB.\n",
    "Column E: Borough of Occurrence - the borough in which the incident occurred.\n",
    "Column F: Is Full Investigation - a logical marker indicating whether the complaint was fully investigated by the CCRB.\n",
    "Column G: Complaint Has Video Evidence - a logical marker indicating whether the CCRB has collected any video associated with the complaint.\n",
    "Column H: Complaint Filed Mode - how the complaint was filed.\n",
    "Column I: Complaint Filed Place - where the complaint was filed.\n",
    "Column J: Complaint Contains Stop & Frisk Allegations - a logical marker indicating whether the complaint contains an allegation of stop, question, search of person or frisk.\n",
    "Column K: Incident Location - a general description of the incident location.\n",
    "Column L: Incident Year - the year of the incident which led to the complaint.\n",
    "Column M: Encounter Outcome - the outcome of the encounter.\n",
    "Column N: Reason For Initial Contact - the reason for initial contact.\n",
    "Column O: Allegation FADO Type - the FADO type of the allegation (Force; Abuse of Authority; Discourtesy; Offensive Language).\n",
    "Column P: Allegation Description - the description of the allegation.\n",
    "\n",
    "If you have questions or comments please visit out Data Transparency Initiative Feedback Page at: http://www1.nyc.gov/site/ccrb/policy/data-transparency-initiative-feedback.page"
   ]
  },
  {
   "cell_type": "markdown",
   "metadata": {},
   "source": [
    "How many unique complaints (identified by 'UniqueComplaintId') with complete information (i.e. there are no missing values) appear in the dataset?"
   ]
  },
  {
   "cell_type": "code",
   "execution_count": 26,
   "metadata": {},
   "outputs": [
    {
     "data": {
      "text/plain": [
       "68467"
      ]
     },
     "execution_count": 26,
     "metadata": {},
     "output_type": "execute_result"
    }
   ],
   "source": [
    "df.UniqueComplaintId.nunique()"
   ]
  },
  {
   "cell_type": "code",
   "execution_count": 91,
   "metadata": {
    "scrolled": true
   },
   "outputs": [
    {
     "data": {
      "text/html": [
       "<div>\n",
       "<style scoped>\n",
       "    .dataframe tbody tr th:only-of-type {\n",
       "        vertical-align: middle;\n",
       "    }\n",
       "\n",
       "    .dataframe tbody tr th {\n",
       "        vertical-align: top;\n",
       "    }\n",
       "\n",
       "    .dataframe thead th {\n",
       "        text-align: right;\n",
       "    }\n",
       "</style>\n",
       "<table border=\"1\" class=\"dataframe\">\n",
       "  <thead>\n",
       "    <tr style=\"text-align: right;\">\n",
       "      <th></th>\n",
       "      <th>Borough_of_Occurrence</th>\n",
       "      <th>UniqueComplaintId</th>\n",
       "      <th>count</th>\n",
       "    </tr>\n",
       "  </thead>\n",
       "  <tbody>\n",
       "    <tr>\n",
       "      <th>0</th>\n",
       "      <td>Bronx</td>\n",
       "      <td>1</td>\n",
       "      <td>5</td>\n",
       "    </tr>\n",
       "    <tr>\n",
       "      <th>1</th>\n",
       "      <td>Bronx</td>\n",
       "      <td>2</td>\n",
       "      <td>2</td>\n",
       "    </tr>\n",
       "    <tr>\n",
       "      <th>2</th>\n",
       "      <td>Bronx</td>\n",
       "      <td>7</td>\n",
       "      <td>5</td>\n",
       "    </tr>\n",
       "    <tr>\n",
       "      <th>3</th>\n",
       "      <td>Bronx</td>\n",
       "      <td>8</td>\n",
       "      <td>8</td>\n",
       "    </tr>\n",
       "    <tr>\n",
       "      <th>4</th>\n",
       "      <td>Bronx</td>\n",
       "      <td>11</td>\n",
       "      <td>1</td>\n",
       "    </tr>\n",
       "    <tr>\n",
       "      <th>5</th>\n",
       "      <td>Bronx</td>\n",
       "      <td>14</td>\n",
       "      <td>2</td>\n",
       "    </tr>\n",
       "    <tr>\n",
       "      <th>6</th>\n",
       "      <td>Bronx</td>\n",
       "      <td>20</td>\n",
       "      <td>5</td>\n",
       "    </tr>\n",
       "    <tr>\n",
       "      <th>7</th>\n",
       "      <td>Bronx</td>\n",
       "      <td>27</td>\n",
       "      <td>1</td>\n",
       "    </tr>\n",
       "    <tr>\n",
       "      <th>8</th>\n",
       "      <td>Bronx</td>\n",
       "      <td>30</td>\n",
       "      <td>2</td>\n",
       "    </tr>\n",
       "    <tr>\n",
       "      <th>9</th>\n",
       "      <td>Bronx</td>\n",
       "      <td>34</td>\n",
       "      <td>5</td>\n",
       "    </tr>\n",
       "    <tr>\n",
       "      <th>10</th>\n",
       "      <td>Bronx</td>\n",
       "      <td>38</td>\n",
       "      <td>3</td>\n",
       "    </tr>\n",
       "    <tr>\n",
       "      <th>11</th>\n",
       "      <td>Bronx</td>\n",
       "      <td>43</td>\n",
       "      <td>4</td>\n",
       "    </tr>\n",
       "    <tr>\n",
       "      <th>12</th>\n",
       "      <td>Bronx</td>\n",
       "      <td>47</td>\n",
       "      <td>6</td>\n",
       "    </tr>\n",
       "    <tr>\n",
       "      <th>13</th>\n",
       "      <td>Bronx</td>\n",
       "      <td>49</td>\n",
       "      <td>3</td>\n",
       "    </tr>\n",
       "    <tr>\n",
       "      <th>14</th>\n",
       "      <td>Bronx</td>\n",
       "      <td>61</td>\n",
       "      <td>1</td>\n",
       "    </tr>\n",
       "    <tr>\n",
       "      <th>15</th>\n",
       "      <td>Bronx</td>\n",
       "      <td>70</td>\n",
       "      <td>1</td>\n",
       "    </tr>\n",
       "    <tr>\n",
       "      <th>16</th>\n",
       "      <td>Bronx</td>\n",
       "      <td>76</td>\n",
       "      <td>3</td>\n",
       "    </tr>\n",
       "    <tr>\n",
       "      <th>17</th>\n",
       "      <td>Bronx</td>\n",
       "      <td>91</td>\n",
       "      <td>3</td>\n",
       "    </tr>\n",
       "    <tr>\n",
       "      <th>18</th>\n",
       "      <td>Bronx</td>\n",
       "      <td>93</td>\n",
       "      <td>1</td>\n",
       "    </tr>\n",
       "    <tr>\n",
       "      <th>19</th>\n",
       "      <td>Bronx</td>\n",
       "      <td>103</td>\n",
       "      <td>3</td>\n",
       "    </tr>\n",
       "    <tr>\n",
       "      <th>20</th>\n",
       "      <td>Bronx</td>\n",
       "      <td>116</td>\n",
       "      <td>3</td>\n",
       "    </tr>\n",
       "    <tr>\n",
       "      <th>21</th>\n",
       "      <td>Bronx</td>\n",
       "      <td>117</td>\n",
       "      <td>5</td>\n",
       "    </tr>\n",
       "    <tr>\n",
       "      <th>22</th>\n",
       "      <td>Bronx</td>\n",
       "      <td>118</td>\n",
       "      <td>1</td>\n",
       "    </tr>\n",
       "    <tr>\n",
       "      <th>23</th>\n",
       "      <td>Bronx</td>\n",
       "      <td>120</td>\n",
       "      <td>1</td>\n",
       "    </tr>\n",
       "    <tr>\n",
       "      <th>24</th>\n",
       "      <td>Bronx</td>\n",
       "      <td>122</td>\n",
       "      <td>4</td>\n",
       "    </tr>\n",
       "    <tr>\n",
       "      <th>25</th>\n",
       "      <td>Bronx</td>\n",
       "      <td>124</td>\n",
       "      <td>5</td>\n",
       "    </tr>\n",
       "    <tr>\n",
       "      <th>26</th>\n",
       "      <td>Bronx</td>\n",
       "      <td>147</td>\n",
       "      <td>1</td>\n",
       "    </tr>\n",
       "    <tr>\n",
       "      <th>27</th>\n",
       "      <td>Bronx</td>\n",
       "      <td>150</td>\n",
       "      <td>4</td>\n",
       "    </tr>\n",
       "    <tr>\n",
       "      <th>28</th>\n",
       "      <td>Bronx</td>\n",
       "      <td>166</td>\n",
       "      <td>2</td>\n",
       "    </tr>\n",
       "    <tr>\n",
       "      <th>29</th>\n",
       "      <td>Bronx</td>\n",
       "      <td>172</td>\n",
       "      <td>2</td>\n",
       "    </tr>\n",
       "    <tr>\n",
       "      <th>...</th>\n",
       "      <td>...</td>\n",
       "      <td>...</td>\n",
       "      <td>...</td>\n",
       "    </tr>\n",
       "    <tr>\n",
       "      <th>68437</th>\n",
       "      <td>Staten Island</td>\n",
       "      <td>69677</td>\n",
       "      <td>2</td>\n",
       "    </tr>\n",
       "    <tr>\n",
       "      <th>68438</th>\n",
       "      <td>Staten Island</td>\n",
       "      <td>69686</td>\n",
       "      <td>1</td>\n",
       "    </tr>\n",
       "    <tr>\n",
       "      <th>68439</th>\n",
       "      <td>Staten Island</td>\n",
       "      <td>69689</td>\n",
       "      <td>2</td>\n",
       "    </tr>\n",
       "    <tr>\n",
       "      <th>68440</th>\n",
       "      <td>Staten Island</td>\n",
       "      <td>69690</td>\n",
       "      <td>2</td>\n",
       "    </tr>\n",
       "    <tr>\n",
       "      <th>68441</th>\n",
       "      <td>Staten Island</td>\n",
       "      <td>69691</td>\n",
       "      <td>1</td>\n",
       "    </tr>\n",
       "    <tr>\n",
       "      <th>68442</th>\n",
       "      <td>Staten Island</td>\n",
       "      <td>69712</td>\n",
       "      <td>5</td>\n",
       "    </tr>\n",
       "    <tr>\n",
       "      <th>68443</th>\n",
       "      <td>Staten Island</td>\n",
       "      <td>69738</td>\n",
       "      <td>2</td>\n",
       "    </tr>\n",
       "    <tr>\n",
       "      <th>68444</th>\n",
       "      <td>Staten Island</td>\n",
       "      <td>69774</td>\n",
       "      <td>5</td>\n",
       "    </tr>\n",
       "    <tr>\n",
       "      <th>68445</th>\n",
       "      <td>Staten Island</td>\n",
       "      <td>69777</td>\n",
       "      <td>3</td>\n",
       "    </tr>\n",
       "    <tr>\n",
       "      <th>68446</th>\n",
       "      <td>Staten Island</td>\n",
       "      <td>69799</td>\n",
       "      <td>9</td>\n",
       "    </tr>\n",
       "    <tr>\n",
       "      <th>68447</th>\n",
       "      <td>Staten Island</td>\n",
       "      <td>69809</td>\n",
       "      <td>4</td>\n",
       "    </tr>\n",
       "    <tr>\n",
       "      <th>68448</th>\n",
       "      <td>Staten Island</td>\n",
       "      <td>69819</td>\n",
       "      <td>6</td>\n",
       "    </tr>\n",
       "    <tr>\n",
       "      <th>68449</th>\n",
       "      <td>Staten Island</td>\n",
       "      <td>69827</td>\n",
       "      <td>4</td>\n",
       "    </tr>\n",
       "    <tr>\n",
       "      <th>68450</th>\n",
       "      <td>Staten Island</td>\n",
       "      <td>69870</td>\n",
       "      <td>1</td>\n",
       "    </tr>\n",
       "    <tr>\n",
       "      <th>68451</th>\n",
       "      <td>Staten Island</td>\n",
       "      <td>69911</td>\n",
       "      <td>1</td>\n",
       "    </tr>\n",
       "    <tr>\n",
       "      <th>68452</th>\n",
       "      <td>Staten Island</td>\n",
       "      <td>69914</td>\n",
       "      <td>1</td>\n",
       "    </tr>\n",
       "    <tr>\n",
       "      <th>68453</th>\n",
       "      <td>Staten Island</td>\n",
       "      <td>69959</td>\n",
       "      <td>2</td>\n",
       "    </tr>\n",
       "    <tr>\n",
       "      <th>68454</th>\n",
       "      <td>Staten Island</td>\n",
       "      <td>69986</td>\n",
       "      <td>2</td>\n",
       "    </tr>\n",
       "    <tr>\n",
       "      <th>68455</th>\n",
       "      <td>Staten Island</td>\n",
       "      <td>69988</td>\n",
       "      <td>4</td>\n",
       "    </tr>\n",
       "    <tr>\n",
       "      <th>68456</th>\n",
       "      <td>Staten Island</td>\n",
       "      <td>70036</td>\n",
       "      <td>2</td>\n",
       "    </tr>\n",
       "    <tr>\n",
       "      <th>68457</th>\n",
       "      <td>Staten Island</td>\n",
       "      <td>70046</td>\n",
       "      <td>3</td>\n",
       "    </tr>\n",
       "    <tr>\n",
       "      <th>68458</th>\n",
       "      <td>Staten Island</td>\n",
       "      <td>70054</td>\n",
       "      <td>10</td>\n",
       "    </tr>\n",
       "    <tr>\n",
       "      <th>68459</th>\n",
       "      <td>Staten Island</td>\n",
       "      <td>70059</td>\n",
       "      <td>12</td>\n",
       "    </tr>\n",
       "    <tr>\n",
       "      <th>68460</th>\n",
       "      <td>Staten Island</td>\n",
       "      <td>70075</td>\n",
       "      <td>3</td>\n",
       "    </tr>\n",
       "    <tr>\n",
       "      <th>68461</th>\n",
       "      <td>Staten Island</td>\n",
       "      <td>70081</td>\n",
       "      <td>1</td>\n",
       "    </tr>\n",
       "    <tr>\n",
       "      <th>68462</th>\n",
       "      <td>Staten Island</td>\n",
       "      <td>70117</td>\n",
       "      <td>2</td>\n",
       "    </tr>\n",
       "    <tr>\n",
       "      <th>68463</th>\n",
       "      <td>Staten Island</td>\n",
       "      <td>70184</td>\n",
       "      <td>1</td>\n",
       "    </tr>\n",
       "    <tr>\n",
       "      <th>68464</th>\n",
       "      <td>Staten Island</td>\n",
       "      <td>70188</td>\n",
       "      <td>2</td>\n",
       "    </tr>\n",
       "    <tr>\n",
       "      <th>68465</th>\n",
       "      <td>Staten Island</td>\n",
       "      <td>70199</td>\n",
       "      <td>2</td>\n",
       "    </tr>\n",
       "    <tr>\n",
       "      <th>68466</th>\n",
       "      <td>Staten Island</td>\n",
       "      <td>70219</td>\n",
       "      <td>2</td>\n",
       "    </tr>\n",
       "  </tbody>\n",
       "</table>\n",
       "<p>68467 rows × 3 columns</p>\n",
       "</div>"
      ],
      "text/plain": [
       "      Borough_of_Occurrence  UniqueComplaintId  count\n",
       "0                     Bronx                  1      5\n",
       "1                     Bronx                  2      2\n",
       "2                     Bronx                  7      5\n",
       "3                     Bronx                  8      8\n",
       "4                     Bronx                 11      1\n",
       "5                     Bronx                 14      2\n",
       "6                     Bronx                 20      5\n",
       "7                     Bronx                 27      1\n",
       "8                     Bronx                 30      2\n",
       "9                     Bronx                 34      5\n",
       "10                    Bronx                 38      3\n",
       "11                    Bronx                 43      4\n",
       "12                    Bronx                 47      6\n",
       "13                    Bronx                 49      3\n",
       "14                    Bronx                 61      1\n",
       "15                    Bronx                 70      1\n",
       "16                    Bronx                 76      3\n",
       "17                    Bronx                 91      3\n",
       "18                    Bronx                 93      1\n",
       "19                    Bronx                103      3\n",
       "20                    Bronx                116      3\n",
       "21                    Bronx                117      5\n",
       "22                    Bronx                118      1\n",
       "23                    Bronx                120      1\n",
       "24                    Bronx                122      4\n",
       "25                    Bronx                124      5\n",
       "26                    Bronx                147      1\n",
       "27                    Bronx                150      4\n",
       "28                    Bronx                166      2\n",
       "29                    Bronx                172      2\n",
       "...                     ...                ...    ...\n",
       "68437         Staten Island              69677      2\n",
       "68438         Staten Island              69686      1\n",
       "68439         Staten Island              69689      2\n",
       "68440         Staten Island              69690      2\n",
       "68441         Staten Island              69691      1\n",
       "68442         Staten Island              69712      5\n",
       "68443         Staten Island              69738      2\n",
       "68444         Staten Island              69774      5\n",
       "68445         Staten Island              69777      3\n",
       "68446         Staten Island              69799      9\n",
       "68447         Staten Island              69809      4\n",
       "68448         Staten Island              69819      6\n",
       "68449         Staten Island              69827      4\n",
       "68450         Staten Island              69870      1\n",
       "68451         Staten Island              69911      1\n",
       "68452         Staten Island              69914      1\n",
       "68453         Staten Island              69959      2\n",
       "68454         Staten Island              69986      2\n",
       "68455         Staten Island              69988      4\n",
       "68456         Staten Island              70036      2\n",
       "68457         Staten Island              70046      3\n",
       "68458         Staten Island              70054     10\n",
       "68459         Staten Island              70059     12\n",
       "68460         Staten Island              70075      3\n",
       "68461         Staten Island              70081      1\n",
       "68462         Staten Island              70117      2\n",
       "68463         Staten Island              70184      1\n",
       "68464         Staten Island              70188      2\n",
       "68465         Staten Island              70199      2\n",
       "68466         Staten Island              70219      2\n",
       "\n",
       "[68467 rows x 3 columns]"
      ]
     },
     "execution_count": 91,
     "metadata": {},
     "output_type": "execute_result"
    }
   ],
   "source": [
    "se_b = df.groupby(['Borough_of_Occurrence','UniqueComplaintId']).size().reset_index(name = 'count')\n",
    "se_b"
   ]
  },
  {
   "cell_type": "code",
   "execution_count": 92,
   "metadata": {
    "scrolled": true
   },
   "outputs": [
    {
     "data": {
      "text/plain": [
       "Borough_of_Occurrence\n",
       "Bronx            49135\n",
       "Brooklyn         71580\n",
       "Manhattan        41804\n",
       "Outside NYC        175\n",
       "Queens           30637\n",
       "Staten Island     9059\n",
       "dtype: int64"
      ]
     },
     "execution_count": 92,
     "metadata": {},
     "output_type": "execute_result"
    }
   ],
   "source": [
    "df.groupby(['Borough_of_Occurrence']).size()"
   ]
  },
  {
   "cell_type": "code",
   "execution_count": 93,
   "metadata": {
    "scrolled": true
   },
   "outputs": [
    {
     "data": {
      "text/plain": [
       "Borough_of_Occurrence\n",
       "Bronx            15603\n",
       "Brooklyn         23369\n",
       "Manhattan        16067\n",
       "Outside NYC         57\n",
       "Queens           10608\n",
       "Staten Island     2763\n",
       "dtype: int64"
      ]
     },
     "execution_count": 93,
     "metadata": {},
     "output_type": "execute_result"
    }
   ],
   "source": [
    "se_b.groupby(['Borough_of_Occurrence']).size()"
   ]
  },
  {
   "cell_type": "code",
   "execution_count": 94,
   "metadata": {
    "scrolled": false
   },
   "outputs": [
    {
     "data": {
      "text/html": [
       "<div>\n",
       "<style scoped>\n",
       "    .dataframe tbody tr th:only-of-type {\n",
       "        vertical-align: middle;\n",
       "    }\n",
       "\n",
       "    .dataframe tbody tr th {\n",
       "        vertical-align: top;\n",
       "    }\n",
       "\n",
       "    .dataframe thead th {\n",
       "        text-align: right;\n",
       "    }\n",
       "</style>\n",
       "<table border=\"1\" class=\"dataframe\">\n",
       "  <thead>\n",
       "    <tr style=\"text-align: right;\">\n",
       "      <th></th>\n",
       "      <th>Borough_of_Occurrence</th>\n",
       "      <th>UniqueComplaintId</th>\n",
       "      <th>count</th>\n",
       "    </tr>\n",
       "    <tr>\n",
       "      <th>Borough_of_Occurrence</th>\n",
       "      <th></th>\n",
       "      <th></th>\n",
       "      <th></th>\n",
       "    </tr>\n",
       "  </thead>\n",
       "  <tbody>\n",
       "    <tr>\n",
       "      <th>Bronx</th>\n",
       "      <td>1</td>\n",
       "      <td>15603</td>\n",
       "      <td>27</td>\n",
       "    </tr>\n",
       "    <tr>\n",
       "      <th>Brooklyn</th>\n",
       "      <td>1</td>\n",
       "      <td>23369</td>\n",
       "      <td>25</td>\n",
       "    </tr>\n",
       "    <tr>\n",
       "      <th>Manhattan</th>\n",
       "      <td>1</td>\n",
       "      <td>16067</td>\n",
       "      <td>21</td>\n",
       "    </tr>\n",
       "    <tr>\n",
       "      <th>Outside NYC</th>\n",
       "      <td>1</td>\n",
       "      <td>57</td>\n",
       "      <td>10</td>\n",
       "    </tr>\n",
       "    <tr>\n",
       "      <th>Queens</th>\n",
       "      <td>1</td>\n",
       "      <td>10608</td>\n",
       "      <td>24</td>\n",
       "    </tr>\n",
       "    <tr>\n",
       "      <th>Staten Island</th>\n",
       "      <td>1</td>\n",
       "      <td>2763</td>\n",
       "      <td>21</td>\n",
       "    </tr>\n",
       "  </tbody>\n",
       "</table>\n",
       "</div>"
      ],
      "text/plain": [
       "                       Borough_of_Occurrence  UniqueComplaintId  count\n",
       "Borough_of_Occurrence                                                 \n",
       "Bronx                                      1              15603     27\n",
       "Brooklyn                                   1              23369     25\n",
       "Manhattan                                  1              16067     21\n",
       "Outside NYC                                1                 57     10\n",
       "Queens                                     1              10608     24\n",
       "Staten Island                              1               2763     21"
      ]
     },
     "execution_count": 94,
     "metadata": {},
     "output_type": "execute_result"
    }
   ],
   "source": [
    "se_b_uniqueID = se_b.groupby(['Borough_of_Occurrence']).nunique()\n",
    "se_b_uniqueID"
   ]
  },
  {
   "cell_type": "code",
   "execution_count": 95,
   "metadata": {},
   "outputs": [
    {
     "data": {
      "text/plain": [
       "0.3413177151"
      ]
     },
     "execution_count": 95,
     "metadata": {},
     "output_type": "execute_result"
    }
   ],
   "source": [
    "round(se_b_uniqueID.UniqueComplaintId.max() / se_b_uniqueID.UniqueComplaintId.sum(),10)"
   ]
  },
  {
   "cell_type": "code",
   "execution_count": 107,
   "metadata": {},
   "outputs": [],
   "source": [
    "se_b2016 = df[df.Incident_Year == 2016].groupby(['Borough_of_Occurrence','UniqueComplaintId']).size().reset_index(name = 'count')\n",
    "se_b2016_uniqueID = se_b2016.groupby(['Borough_of_Occurrence']).nunique()"
   ]
  },
  {
   "cell_type": "code",
   "execution_count": 108,
   "metadata": {
    "scrolled": true
   },
   "outputs": [
    {
     "name": "stdout",
     "output_type": "stream",
     "text": [
      "complaints per 100k residents in the borough with the highest number of complaints per capita in 2016\n",
      " 53.0321765175\n"
     ]
    },
    {
     "data": {
      "text/html": [
       "<div>\n",
       "<style scoped>\n",
       "    .dataframe tbody tr th:only-of-type {\n",
       "        vertical-align: middle;\n",
       "    }\n",
       "\n",
       "    .dataframe tbody tr th {\n",
       "        vertical-align: top;\n",
       "    }\n",
       "\n",
       "    .dataframe thead th {\n",
       "        text-align: right;\n",
       "    }\n",
       "</style>\n",
       "<table border=\"1\" class=\"dataframe\">\n",
       "  <thead>\n",
       "    <tr style=\"text-align: right;\">\n",
       "      <th></th>\n",
       "      <th>Borough_of_Occurrence</th>\n",
       "      <th>UniqueComplaintId</th>\n",
       "      <th>count</th>\n",
       "      <th>Population</th>\n",
       "      <th>ComplaintsPerCapital</th>\n",
       "    </tr>\n",
       "    <tr>\n",
       "      <th>Borough_of_Occurrence</th>\n",
       "      <th></th>\n",
       "      <th></th>\n",
       "      <th></th>\n",
       "      <th></th>\n",
       "      <th></th>\n",
       "    </tr>\n",
       "  </thead>\n",
       "  <tbody>\n",
       "    <tr>\n",
       "      <th>Bronx</th>\n",
       "      <td>1</td>\n",
       "      <td>772</td>\n",
       "      <td>23</td>\n",
       "      <td>1455720.0</td>\n",
       "      <td>0.000530</td>\n",
       "    </tr>\n",
       "    <tr>\n",
       "      <th>Brooklyn</th>\n",
       "      <td>1</td>\n",
       "      <td>1068</td>\n",
       "      <td>18</td>\n",
       "      <td>2629150.0</td>\n",
       "      <td>0.000406</td>\n",
       "    </tr>\n",
       "    <tr>\n",
       "      <th>Manhattan</th>\n",
       "      <td>1</td>\n",
       "      <td>844</td>\n",
       "      <td>18</td>\n",
       "      <td>1643734.0</td>\n",
       "      <td>0.000513</td>\n",
       "    </tr>\n",
       "    <tr>\n",
       "      <th>Outside NYC</th>\n",
       "      <td>1</td>\n",
       "      <td>3</td>\n",
       "      <td>3</td>\n",
       "      <td>NaN</td>\n",
       "      <td>NaN</td>\n",
       "    </tr>\n",
       "    <tr>\n",
       "      <th>Queens</th>\n",
       "      <td>1</td>\n",
       "      <td>589</td>\n",
       "      <td>15</td>\n",
       "      <td>2333054.0</td>\n",
       "      <td>0.000252</td>\n",
       "    </tr>\n",
       "    <tr>\n",
       "      <th>Staten Island</th>\n",
       "      <td>1</td>\n",
       "      <td>149</td>\n",
       "      <td>10</td>\n",
       "      <td>476015.0</td>\n",
       "      <td>0.000313</td>\n",
       "    </tr>\n",
       "  </tbody>\n",
       "</table>\n",
       "</div>"
      ],
      "text/plain": [
       "                       Borough_of_Occurrence  UniqueComplaintId  count  \\\n",
       "Borough_of_Occurrence                                                    \n",
       "Bronx                                      1                772     23   \n",
       "Brooklyn                                   1               1068     18   \n",
       "Manhattan                                  1                844     18   \n",
       "Outside NYC                                1                  3      3   \n",
       "Queens                                     1                589     15   \n",
       "Staten Island                              1                149     10   \n",
       "\n",
       "                       Population  ComplaintsPerCapital  \n",
       "Borough_of_Occurrence                                    \n",
       "Bronx                   1455720.0              0.000530  \n",
       "Brooklyn                2629150.0              0.000406  \n",
       "Manhattan               1643734.0              0.000513  \n",
       "Outside NYC                   NaN                   NaN  \n",
       "Queens                  2333054.0              0.000252  \n",
       "Staten Island            476015.0              0.000313  "
      ]
     },
     "execution_count": 108,
     "metadata": {},
     "output_type": "execute_result"
    }
   ],
   "source": [
    "#year  Manhattan\tBrooklyn\tQueens\t  Bronx\t      Staten Is. total\n",
    "#2016\t1,643,734\t2,629,150\t2,333,054\t1,455,720\t476,015\t8,537,673\n",
    "se_b2016_uniqueID['Population'] = [1455720, 2629150, 1643734, None, 2333054, 476015]\n",
    "se_b2016_uniqueID['ComplaintsPerCapital'] = se_b2016_uniqueID.UniqueComplaintId/se_b2016_uniqueID.Population\n",
    "print('complaints per 100k residents in the borough with the highest number of complaints per capita in 2016\\n', \\\n",
    "      round(se_b2016_uniqueID.ComplaintsPerCapital.max()*10**5,10))\n",
    "se_b2016_uniqueID"
   ]
  },
  {
   "cell_type": "code",
   "execution_count": 120,
   "metadata": {},
   "outputs": [
    {
     "data": {
      "text/plain": [
       "0.5044912147"
      ]
     },
     "execution_count": 120,
     "metadata": {},
     "output_type": "execute_result"
    }
   ],
   "source": [
    "se_duration = df.groupby(['Borough_of_Occurrence','UniqueComplaintId'])['Incident_Year','Close_Year'].first().reset_index()\n",
    "se_duration['Duration'] = se_duration.Close_Year - se_duration.Incident_Year\n",
    "round(se_duration.Duration.mean(),10)"
   ]
  },
  {
   "cell_type": "code",
   "execution_count": 174,
   "metadata": {
    "scrolled": true
   },
   "outputs": [
    {
     "data": {
      "text/html": [
       "<div>\n",
       "<style scoped>\n",
       "    .dataframe tbody tr th:only-of-type {\n",
       "        vertical-align: middle;\n",
       "    }\n",
       "\n",
       "    .dataframe tbody tr th {\n",
       "        vertical-align: top;\n",
       "    }\n",
       "\n",
       "    .dataframe thead th {\n",
       "        text-align: right;\n",
       "    }\n",
       "</style>\n",
       "<table border=\"1\" class=\"dataframe\">\n",
       "  <thead>\n",
       "    <tr style=\"text-align: right;\">\n",
       "      <th></th>\n",
       "      <th>Incident_Year</th>\n",
       "      <th>Count</th>\n",
       "    </tr>\n",
       "  </thead>\n",
       "  <tbody>\n",
       "    <tr>\n",
       "      <th>0</th>\n",
       "      <td>1999</td>\n",
       "      <td>1</td>\n",
       "    </tr>\n",
       "    <tr>\n",
       "      <th>1</th>\n",
       "      <td>2002</td>\n",
       "      <td>1</td>\n",
       "    </tr>\n",
       "    <tr>\n",
       "      <th>2</th>\n",
       "      <td>2003</td>\n",
       "      <td>3</td>\n",
       "    </tr>\n",
       "    <tr>\n",
       "      <th>3</th>\n",
       "      <td>2004</td>\n",
       "      <td>67</td>\n",
       "    </tr>\n",
       "    <tr>\n",
       "      <th>4</th>\n",
       "      <td>2005</td>\n",
       "      <td>1110</td>\n",
       "    </tr>\n",
       "    <tr>\n",
       "      <th>5</th>\n",
       "      <td>2006</td>\n",
       "      <td>2369</td>\n",
       "    </tr>\n",
       "    <tr>\n",
       "      <th>6</th>\n",
       "      <td>2007</td>\n",
       "      <td>2513</td>\n",
       "    </tr>\n",
       "    <tr>\n",
       "      <th>7</th>\n",
       "      <td>2008</td>\n",
       "      <td>2192</td>\n",
       "    </tr>\n",
       "    <tr>\n",
       "      <th>8</th>\n",
       "      <td>2009</td>\n",
       "      <td>2187</td>\n",
       "    </tr>\n",
       "    <tr>\n",
       "      <th>9</th>\n",
       "      <td>2010</td>\n",
       "      <td>1805</td>\n",
       "    </tr>\n",
       "    <tr>\n",
       "      <th>10</th>\n",
       "      <td>2011</td>\n",
       "      <td>1638</td>\n",
       "    </tr>\n",
       "    <tr>\n",
       "      <th>11</th>\n",
       "      <td>2012</td>\n",
       "      <td>1455</td>\n",
       "    </tr>\n",
       "    <tr>\n",
       "      <th>12</th>\n",
       "      <td>2013</td>\n",
       "      <td>1237</td>\n",
       "    </tr>\n",
       "    <tr>\n",
       "      <th>13</th>\n",
       "      <td>2014</td>\n",
       "      <td>975</td>\n",
       "    </tr>\n",
       "    <tr>\n",
       "      <th>14</th>\n",
       "      <td>2015</td>\n",
       "      <td>877</td>\n",
       "    </tr>\n",
       "    <tr>\n",
       "      <th>15</th>\n",
       "      <td>2016</td>\n",
       "      <td>685</td>\n",
       "    </tr>\n",
       "    <tr>\n",
       "      <th>16</th>\n",
       "      <td>2017</td>\n",
       "      <td>5</td>\n",
       "    </tr>\n",
       "  </tbody>\n",
       "</table>\n",
       "</div>"
      ],
      "text/plain": [
       "    Incident_Year  Count\n",
       "0            1999      1\n",
       "1            2002      1\n",
       "2            2003      3\n",
       "3            2004     67\n",
       "4            2005   1110\n",
       "5            2006   2369\n",
       "6            2007   2513\n",
       "7            2008   2192\n",
       "8            2009   2187\n",
       "9            2010   1805\n",
       "10           2011   1638\n",
       "11           2012   1455\n",
       "12           2013   1237\n",
       "13           2014    975\n",
       "14           2015    877\n",
       "15           2016    685\n",
       "16           2017      5"
      ]
     },
     "execution_count": 174,
     "metadata": {},
     "output_type": "execute_result"
    }
   ],
   "source": [
    "se_stop = df.groupby(['Incident_Year','UniqueComplaintId'])['Complaint_Contains_Stop__Frisk_Allegations'].first().reset_index()\n",
    "se_stop_year = se_stop[se_stop.Complaint_Contains_Stop__Frisk_Allegations == True].groupby(['Incident_Year']).size().reset_index(name = 'Count')\n",
    "se_stop_year\n"
   ]
  },
  {
   "cell_type": "code",
   "execution_count": 434,
   "metadata": {},
   "outputs": [
    {
     "data": {
      "text/plain": [
       "array([-189.68181818])"
      ]
     },
     "execution_count": 434,
     "metadata": {},
     "output_type": "execute_result"
    }
   ],
   "source": [
    "x = np.array(se_stop_year[(se_stop_year.Incident_Year > 2005) & (se_stop_year.Incident_Year != 2017)].Incident_Year).reshape(-1, 1)\n",
    "y = np.array(se_stop_year[(se_stop_year.Incident_Year > 2005) & (se_stop_year.Incident_Year != 2017)].Count)\n",
    "r_fit = linear_model.LinearRegression().fit(x,y)\n",
    "r_fit.coef_"
   ]
  },
  {
   "cell_type": "code",
   "execution_count": 435,
   "metadata": {},
   "outputs": [
    {
     "data": {
      "text/plain": [
       "383080.4090909092"
      ]
     },
     "execution_count": 435,
     "metadata": {},
     "output_type": "execute_result"
    }
   ],
   "source": [
    "r_fit.intercept_"
   ]
  },
  {
   "cell_type": "code",
   "execution_count": 427,
   "metadata": {},
   "outputs": [
    {
     "data": {
      "text/plain": [
       "array([302.5])"
      ]
     },
     "execution_count": 427,
     "metadata": {},
     "output_type": "execute_result"
    }
   ],
   "source": [
    "r_fit.predict(np.array([2018]).reshape(-1,1))"
   ]
  },
  {
   "cell_type": "code",
   "execution_count": 192,
   "metadata": {},
   "outputs": [],
   "source": [
    "r_predic = r_fit.predict(x)"
   ]
  },
  {
   "cell_type": "code",
   "execution_count": 193,
   "metadata": {},
   "outputs": [
    {
     "data": {
      "text/plain": [
       "[<matplotlib.lines.Line2D at 0x10f1935c0>,\n",
       " <matplotlib.lines.Line2D at 0x10f1936d8>]"
      ]
     },
     "execution_count": 193,
     "metadata": {},
     "output_type": "execute_result"
    },
    {
     "data": {
      "image/png": "[encoded data removed]",
      "text/plain": [
       "<Figure size 432x288 with 1 Axes>"
      ]
     },
     "metadata": {},
     "output_type": "display_data"
    }
   ],
   "source": [
    "plt.plot(x,y,'.-',x, r_predic)"
   ]
  },
  {
   "cell_type": "code",
   "execution_count": 425,
   "metadata": {
    "scrolled": false
   },
   "outputs": [
    {
     "data": {
      "text/html": [
       "<div>\n",
       "<style scoped>\n",
       "    .dataframe tbody tr th:only-of-type {\n",
       "        vertical-align: middle;\n",
       "    }\n",
       "\n",
       "    .dataframe tbody tr th {\n",
       "        vertical-align: top;\n",
       "    }\n",
       "\n",
       "    .dataframe thead th {\n",
       "        text-align: right;\n",
       "    }\n",
       "</style>\n",
       "<table border=\"1\" class=\"dataframe\">\n",
       "  <thead>\n",
       "    <tr style=\"text-align: right;\">\n",
       "      <th></th>\n",
       "      <th>UniqueComplaintId</th>\n",
       "      <th>Complaint_Has_Video_Evidence</th>\n",
       "      <th>Is_Full_Investigation</th>\n",
       "    </tr>\n",
       "  </thead>\n",
       "  <tbody>\n",
       "    <tr>\n",
       "      <th>0</th>\n",
       "      <td>1</td>\n",
       "      <td>False</td>\n",
       "      <td>False</td>\n",
       "    </tr>\n",
       "    <tr>\n",
       "      <th>1</th>\n",
       "      <td>2</td>\n",
       "      <td>False</td>\n",
       "      <td>False</td>\n",
       "    </tr>\n",
       "    <tr>\n",
       "      <th>2</th>\n",
       "      <td>3</td>\n",
       "      <td>False</td>\n",
       "      <td>False</td>\n",
       "    </tr>\n",
       "    <tr>\n",
       "      <th>3</th>\n",
       "      <td>4</td>\n",
       "      <td>False</td>\n",
       "      <td>True</td>\n",
       "    </tr>\n",
       "    <tr>\n",
       "      <th>4</th>\n",
       "      <td>5</td>\n",
       "      <td>False</td>\n",
       "      <td>False</td>\n",
       "    </tr>\n",
       "  </tbody>\n",
       "</table>\n",
       "</div>"
      ],
      "text/plain": [
       "   UniqueComplaintId  Complaint_Has_Video_Evidence  Is_Full_Investigation\n",
       "0                  1                         False                  False\n",
       "1                  2                         False                  False\n",
       "2                  3                         False                  False\n",
       "3                  4                         False                   True\n",
       "4                  5                         False                  False"
      ]
     },
     "execution_count": 425,
     "metadata": {},
     "output_type": "execute_result"
    }
   ],
   "source": [
    "se_video = df.groupby(['UniqueComplaintId'])['Complaint_Has_Video_Evidence','Is_Full_Investigation'].first().reset_index()\n",
    "\n",
    "se_video.head()"
   ]
  },
  {
   "cell_type": "markdown",
   "metadata": {},
   "source": [
    "# Chi Square Test"
   ]
  },
  {
   "cell_type": "code",
   "execution_count": 214,
   "metadata": {
    "scrolled": false
   },
   "outputs": [
    {
     "data": {
      "text/html": [
       "<div>\n",
       "<style scoped>\n",
       "    .dataframe tbody tr th:only-of-type {\n",
       "        vertical-align: middle;\n",
       "    }\n",
       "\n",
       "    .dataframe tbody tr th {\n",
       "        vertical-align: top;\n",
       "    }\n",
       "\n",
       "    .dataframe thead th {\n",
       "        text-align: right;\n",
       "    }\n",
       "</style>\n",
       "<table border=\"1\" class=\"dataframe\">\n",
       "  <thead>\n",
       "    <tr style=\"text-align: right;\">\n",
       "      <th></th>\n",
       "      <th>Has_Video</th>\n",
       "      <th>No_Video</th>\n",
       "    </tr>\n",
       "  </thead>\n",
       "  <tbody>\n",
       "    <tr>\n",
       "      <th>Full_Investigate</th>\n",
       "      <td>1465</td>\n",
       "      <td>21889</td>\n",
       "    </tr>\n",
       "    <tr>\n",
       "      <th>Not_Full_Investigate</th>\n",
       "      <td>584</td>\n",
       "      <td>44529</td>\n",
       "    </tr>\n",
       "  </tbody>\n",
       "</table>\n",
       "</div>"
      ],
      "text/plain": [
       "                      Has_Video  No_Video\n",
       "Full_Investigate           1465     21889\n",
       "Not_Full_Investigate        584     44529"
      ]
     },
     "execution_count": 214,
     "metadata": {},
     "output_type": "execute_result"
    }
   ],
   "source": [
    "video_data = {'Has_Video':[se_video[(se_video.Complaint_Has_Video_Evidence == True) & (se_video.Is_Full_Investigation == True)].UniqueComplaintId.count(),\\\n",
    "                          se_video[(se_video.Complaint_Has_Video_Evidence == True) & (se_video.Is_Full_Investigation == False)].UniqueComplaintId.count()],\n",
    "             'No_Video': [se_video[(se_video.Complaint_Has_Video_Evidence == False) & (se_video.Is_Full_Investigation == True)].UniqueComplaintId.count(),\\\n",
    "                         se_video[(se_video.Complaint_Has_Video_Evidence == False) & (se_video.Is_Full_Investigation == False)].UniqueComplaintId.count()],\n",
    "             }\n",
    "df_video = pd.DataFrame(data = video_data,index = ['Full_Investigate','Not_Full_Investigate'] )\n",
    "df_video"
   ]
  },
  {
   "cell_type": "code",
   "execution_count": 247,
   "metadata": {
    "scrolled": true
   },
   "outputs": [
    {
     "data": {
      "text/html": [
       "<div>\n",
       "<style scoped>\n",
       "    .dataframe tbody tr th:only-of-type {\n",
       "        vertical-align: middle;\n",
       "    }\n",
       "\n",
       "    .dataframe tbody tr th {\n",
       "        vertical-align: top;\n",
       "    }\n",
       "\n",
       "    .dataframe thead th {\n",
       "        text-align: right;\n",
       "    }\n",
       "</style>\n",
       "<table border=\"1\" class=\"dataframe\">\n",
       "  <thead>\n",
       "    <tr style=\"text-align: right;\">\n",
       "      <th></th>\n",
       "      <th>Has_Video</th>\n",
       "      <th>No_Video</th>\n",
       "      <th>Sum_by_Investigate</th>\n",
       "    </tr>\n",
       "  </thead>\n",
       "  <tbody>\n",
       "    <tr>\n",
       "      <th>Full_Investigate</th>\n",
       "      <td>1465</td>\n",
       "      <td>21889</td>\n",
       "      <td>23354.0</td>\n",
       "    </tr>\n",
       "    <tr>\n",
       "      <th>Not_Full_Investigate</th>\n",
       "      <td>584</td>\n",
       "      <td>44529</td>\n",
       "      <td>45113.0</td>\n",
       "    </tr>\n",
       "    <tr>\n",
       "      <th>Sum_by_Video</th>\n",
       "      <td>2049</td>\n",
       "      <td>66418</td>\n",
       "      <td>68467.0</td>\n",
       "    </tr>\n",
       "  </tbody>\n",
       "</table>\n",
       "</div>"
      ],
      "text/plain": [
       "                      Has_Video  No_Video  Sum_by_Investigate\n",
       "Full_Investigate           1465     21889             23354.0\n",
       "Not_Full_Investigate        584     44529             45113.0\n",
       "Sum_by_Video               2049     66418             68467.0"
      ]
     },
     "execution_count": 247,
     "metadata": {},
     "output_type": "execute_result"
    }
   ],
   "source": [
    "#df_video.loc['Sum_by_Video'] = [df_video.Has_Video.iloc[0:2].sum(), df_video.No_Video.iloc[0:2].sum()]\n",
    "df_video['Sum_by_Investigate'] = [df_video.iloc[0,0:2].sum(), df_video.iloc[1,0:2].sum(), df_video.iloc[2,0:2].sum()]\n",
    "df_video"
   ]
  },
  {
   "cell_type": "code",
   "execution_count": 318,
   "metadata": {},
   "outputs": [],
   "source": [
    "f_obs = np.array(df_video.iloc[0:2,0:2])\n",
    "ratio = n.array([[df_video.Sum_by_Investigate.loc['Full_Investigate']], [df_video.Sum_by_Investigate.loc['Not_Full_Investigate'] ]])\\\n",
    "/ df_video.Sum_by_Investigate.loc['Sum_by_Video']\n",
    "f_sum = np.array(df_video.iloc[2,0:2])\n",
    "f_exp = ratio *f_sum"
   ]
  },
  {
   "cell_type": "code",
   "execution_count": 309,
   "metadata": {},
   "outputs": [
    {
     "data": {
      "text/plain": [
       "array([[0.34109863],\n",
       "       [0.65890137]])"
      ]
     },
     "execution_count": 309,
     "metadata": {},
     "output_type": "execute_result"
    }
   ],
   "source": [
    "ratio "
   ]
  },
  {
   "cell_type": "code",
   "execution_count": 319,
   "metadata": {
    "scrolled": true
   },
   "outputs": [
    {
     "data": {
      "text/plain": [
       "array([ 2049., 66418.])"
      ]
     },
     "execution_count": 319,
     "metadata": {},
     "output_type": "execute_result"
    }
   ],
   "source": [
    "f_sum"
   ]
  },
  {
   "cell_type": "code",
   "execution_count": 320,
   "metadata": {},
   "outputs": [
    {
     "data": {
      "text/plain": [
       "array([[ 1465, 21889],\n",
       "       [  584, 44529]])"
      ]
     },
     "execution_count": 320,
     "metadata": {},
     "output_type": "execute_result"
    }
   ],
   "source": [
    "f_obs"
   ]
  },
  {
   "cell_type": "code",
   "execution_count": 321,
   "metadata": {},
   "outputs": [
    {
     "data": {
      "text/plain": [
       "array([[  698.91109586, 22655.08890414],\n",
       "       [ 1350.08890414, 43762.91109586]])"
      ]
     },
     "execution_count": 321,
     "metadata": {},
     "output_type": "execute_result"
    }
   ],
   "source": [
    "f_exp = ratio *f_sum\n",
    "f_exp"
   ]
  },
  {
   "cell_type": "code",
   "execution_count": 332,
   "metadata": {
    "scrolled": true
   },
   "outputs": [
    {
     "data": {
      "text/plain": [
       "Power_divergenceResult(statistic=1313.7462956601673, pvalue=5.291960415780173e-286)"
      ]
     },
     "execution_count": 332,
     "metadata": {},
     "output_type": "execute_result"
    }
   ],
   "source": [
    "stats.chisquare(f_obs, f_exp, ddof=1, axis=None)"
   ]
  },
  {
   "cell_type": "code",
   "execution_count": 333,
   "metadata": {
    "scrolled": true
   },
   "outputs": [
    {
     "data": {
      "text/plain": [
       "1313.7462956602"
      ]
     },
     "execution_count": 333,
     "metadata": {},
     "output_type": "execute_result"
    }
   ],
   "source": [
    "round(1313.7462956601673,10)"
   ]
  },
  {
   "cell_type": "code",
   "execution_count": 348,
   "metadata": {},
   "outputs": [
    {
     "data": {
      "text/html": [
       "<div>\n",
       "<style scoped>\n",
       "    .dataframe tbody tr th:only-of-type {\n",
       "        vertical-align: middle;\n",
       "    }\n",
       "\n",
       "    .dataframe tbody tr th {\n",
       "        vertical-align: top;\n",
       "    }\n",
       "\n",
       "    .dataframe thead th {\n",
       "        text-align: right;\n",
       "    }\n",
       "</style>\n",
       "<table border=\"1\" class=\"dataframe\">\n",
       "  <thead>\n",
       "    <tr style=\"text-align: right;\">\n",
       "      <th></th>\n",
       "      <th>DateStamp</th>\n",
       "      <th>UniqueComplaintId</th>\n",
       "      <th>Close_Year</th>\n",
       "      <th>Received_Year</th>\n",
       "      <th>Borough_of_Occurrence</th>\n",
       "      <th>Is_Full_Investigation</th>\n",
       "      <th>Complaint_Has_Video_Evidence</th>\n",
       "      <th>Complaint_Filed_Mode</th>\n",
       "      <th>Complaint_Filed_Place</th>\n",
       "      <th>Complaint_Contains_Stop__Frisk_Allegations</th>\n",
       "      <th>Incident_Location</th>\n",
       "      <th>Incident_Year</th>\n",
       "      <th>Encounter_Outcome</th>\n",
       "      <th>Reason_For_Initial_Contact</th>\n",
       "      <th>Allegation_FADO_Type</th>\n",
       "      <th>Allegation_Description</th>\n",
       "    </tr>\n",
       "  </thead>\n",
       "  <tbody>\n",
       "    <tr>\n",
       "      <th>0</th>\n",
       "      <td>2017-02-07</td>\n",
       "      <td>6</td>\n",
       "      <td>2006</td>\n",
       "      <td>2006</td>\n",
       "      <td>Brooklyn</td>\n",
       "      <td>False</td>\n",
       "      <td>False</td>\n",
       "      <td>Phone</td>\n",
       "      <td>IAB</td>\n",
       "      <td>False</td>\n",
       "      <td>Street/highway</td>\n",
       "      <td>2006</td>\n",
       "      <td>No Arrest or Summons</td>\n",
       "      <td>PD suspected C/V of violation/crime - street</td>\n",
       "      <td>Discourtesy</td>\n",
       "      <td>Action</td>\n",
       "    </tr>\n",
       "    <tr>\n",
       "      <th>1</th>\n",
       "      <td>2017-02-07</td>\n",
       "      <td>11</td>\n",
       "      <td>2006</td>\n",
       "      <td>2006</td>\n",
       "      <td>Bronx</td>\n",
       "      <td>False</td>\n",
       "      <td>False</td>\n",
       "      <td>Phone</td>\n",
       "      <td>IAB</td>\n",
       "      <td>False</td>\n",
       "      <td>Street/highway</td>\n",
       "      <td>2006</td>\n",
       "      <td>Arrest</td>\n",
       "      <td>Other</td>\n",
       "      <td>Force</td>\n",
       "      <td>Physical force</td>\n",
       "    </tr>\n",
       "    <tr>\n",
       "      <th>2</th>\n",
       "      <td>2017-02-07</td>\n",
       "      <td>20</td>\n",
       "      <td>2006</td>\n",
       "      <td>2005</td>\n",
       "      <td>Bronx</td>\n",
       "      <td>False</td>\n",
       "      <td>False</td>\n",
       "      <td>Call Processing System</td>\n",
       "      <td>CCRB</td>\n",
       "      <td>True</td>\n",
       "      <td>Street/highway</td>\n",
       "      <td>2005</td>\n",
       "      <td>No Arrest or Summons</td>\n",
       "      <td>Other</td>\n",
       "      <td>Abuse of Authority</td>\n",
       "      <td>Strip-searched</td>\n",
       "    </tr>\n",
       "    <tr>\n",
       "      <th>3</th>\n",
       "      <td>2017-02-07</td>\n",
       "      <td>20</td>\n",
       "      <td>2006</td>\n",
       "      <td>2005</td>\n",
       "      <td>Bronx</td>\n",
       "      <td>False</td>\n",
       "      <td>False</td>\n",
       "      <td>Call Processing System</td>\n",
       "      <td>CCRB</td>\n",
       "      <td>True</td>\n",
       "      <td>Street/highway</td>\n",
       "      <td>2005</td>\n",
       "      <td>No Arrest or Summons</td>\n",
       "      <td>Other</td>\n",
       "      <td>Abuse of Authority</td>\n",
       "      <td>Seizure of property</td>\n",
       "    </tr>\n",
       "    <tr>\n",
       "      <th>4</th>\n",
       "      <td>2017-02-07</td>\n",
       "      <td>20</td>\n",
       "      <td>2006</td>\n",
       "      <td>2005</td>\n",
       "      <td>Bronx</td>\n",
       "      <td>False</td>\n",
       "      <td>False</td>\n",
       "      <td>Call Processing System</td>\n",
       "      <td>CCRB</td>\n",
       "      <td>True</td>\n",
       "      <td>Street/highway</td>\n",
       "      <td>2005</td>\n",
       "      <td>No Arrest or Summons</td>\n",
       "      <td>Other</td>\n",
       "      <td>Abuse of Authority</td>\n",
       "      <td>Search (of person)</td>\n",
       "    </tr>\n",
       "  </tbody>\n",
       "</table>\n",
       "</div>"
      ],
      "text/plain": [
       "   DateStamp  UniqueComplaintId  Close_Year  Received_Year  \\\n",
       "0 2017-02-07                  6        2006           2006   \n",
       "1 2017-02-07                 11        2006           2006   \n",
       "2 2017-02-07                 20        2006           2005   \n",
       "3 2017-02-07                 20        2006           2005   \n",
       "4 2017-02-07                 20        2006           2005   \n",
       "\n",
       "  Borough_of_Occurrence  Is_Full_Investigation  Complaint_Has_Video_Evidence  \\\n",
       "0              Brooklyn                  False                         False   \n",
       "1                 Bronx                  False                         False   \n",
       "2                 Bronx                  False                         False   \n",
       "3                 Bronx                  False                         False   \n",
       "4                 Bronx                  False                         False   \n",
       "\n",
       "     Complaint_Filed_Mode Complaint_Filed_Place  \\\n",
       "0                   Phone                   IAB   \n",
       "1                   Phone                   IAB   \n",
       "2  Call Processing System                  CCRB   \n",
       "3  Call Processing System                  CCRB   \n",
       "4  Call Processing System                  CCRB   \n",
       "\n",
       "   Complaint_Contains_Stop__Frisk_Allegations Incident_Location  \\\n",
       "0                                       False    Street/highway   \n",
       "1                                       False    Street/highway   \n",
       "2                                        True    Street/highway   \n",
       "3                                        True    Street/highway   \n",
       "4                                        True    Street/highway   \n",
       "\n",
       "   Incident_Year     Encounter_Outcome  \\\n",
       "0           2006  No Arrest or Summons   \n",
       "1           2006                Arrest   \n",
       "2           2005  No Arrest or Summons   \n",
       "3           2005  No Arrest or Summons   \n",
       "4           2005  No Arrest or Summons   \n",
       "\n",
       "                     Reason_For_Initial_Contact Allegation_FADO_Type  \\\n",
       "0  PD suspected C/V of violation/crime - street          Discourtesy   \n",
       "1                                         Other                Force   \n",
       "2                                         Other   Abuse of Authority   \n",
       "3                                         Other   Abuse of Authority   \n",
       "4                                         Other   Abuse of Authority   \n",
       "\n",
       "  Allegation_Description  \n",
       "0                 Action  \n",
       "1         Physical force  \n",
       "2         Strip-searched  \n",
       "3    Seizure of property  \n",
       "4     Search (of person)  "
      ]
     },
     "execution_count": 348,
     "metadata": {},
     "output_type": "execute_result"
    }
   ],
   "source": [
    "df.head()"
   ]
  },
  {
   "cell_type": "code",
   "execution_count": 395,
   "metadata": {
    "scrolled": false
   },
   "outputs": [
    {
     "data": {
      "text/html": [
       "<div>\n",
       "<style scoped>\n",
       "    .dataframe tbody tr th:only-of-type {\n",
       "        vertical-align: middle;\n",
       "    }\n",
       "\n",
       "    .dataframe tbody tr th {\n",
       "        vertical-align: top;\n",
       "    }\n",
       "\n",
       "    .dataframe thead th {\n",
       "        text-align: right;\n",
       "    }\n",
       "</style>\n",
       "<table border=\"1\" class=\"dataframe\">\n",
       "  <thead>\n",
       "    <tr style=\"text-align: right;\">\n",
       "      <th></th>\n",
       "      <th>UniqueComplaintId</th>\n",
       "      <th>Allegation_FADO_Type</th>\n",
       "      <th>Allegation_Description</th>\n",
       "      <th>Abuse_of_Authority</th>\n",
       "      <th>Discourtesy</th>\n",
       "      <th>Force</th>\n",
       "      <th>Offensive_Language</th>\n",
       "    </tr>\n",
       "  </thead>\n",
       "  <tbody>\n",
       "    <tr>\n",
       "      <th>0</th>\n",
       "      <td>6</td>\n",
       "      <td>Discourtesy</td>\n",
       "      <td>Action</td>\n",
       "      <td>0</td>\n",
       "      <td>1</td>\n",
       "      <td>0</td>\n",
       "      <td>0</td>\n",
       "    </tr>\n",
       "    <tr>\n",
       "      <th>1</th>\n",
       "      <td>11</td>\n",
       "      <td>Force</td>\n",
       "      <td>Physical force</td>\n",
       "      <td>0</td>\n",
       "      <td>0</td>\n",
       "      <td>1</td>\n",
       "      <td>0</td>\n",
       "    </tr>\n",
       "    <tr>\n",
       "      <th>2</th>\n",
       "      <td>20</td>\n",
       "      <td>Abuse of Authority</td>\n",
       "      <td>Strip-searched</td>\n",
       "      <td>1</td>\n",
       "      <td>0</td>\n",
       "      <td>0</td>\n",
       "      <td>0</td>\n",
       "    </tr>\n",
       "    <tr>\n",
       "      <th>3</th>\n",
       "      <td>20</td>\n",
       "      <td>Abuse of Authority</td>\n",
       "      <td>Seizure of property</td>\n",
       "      <td>1</td>\n",
       "      <td>0</td>\n",
       "      <td>0</td>\n",
       "      <td>0</td>\n",
       "    </tr>\n",
       "    <tr>\n",
       "      <th>4</th>\n",
       "      <td>20</td>\n",
       "      <td>Abuse of Authority</td>\n",
       "      <td>Search (of person)</td>\n",
       "      <td>1</td>\n",
       "      <td>0</td>\n",
       "      <td>0</td>\n",
       "      <td>0</td>\n",
       "    </tr>\n",
       "  </tbody>\n",
       "</table>\n",
       "</div>"
      ],
      "text/plain": [
       "   UniqueComplaintId Allegation_FADO_Type Allegation_Description  \\\n",
       "0                  6          Discourtesy                 Action   \n",
       "1                 11                Force         Physical force   \n",
       "2                 20   Abuse of Authority         Strip-searched   \n",
       "3                 20   Abuse of Authority    Seizure of property   \n",
       "4                 20   Abuse of Authority     Search (of person)   \n",
       "\n",
       "   Abuse_of_Authority  Discourtesy  Force  Offensive_Language  \n",
       "0                   0            1      0                   0  \n",
       "1                   0            0      1                   0  \n",
       "2                   1            0      0                   0  \n",
       "3                   1            0      0                   0  \n",
       "4                   1            0      0                   0  "
      ]
     },
     "execution_count": 395,
     "metadata": {},
     "output_type": "execute_result"
    }
   ],
   "source": [
    "#Column O: Allegation FADO Type - the FADO type of the allegation \\\n",
    "#(Force; Abuse of Authority; Discourtesy; Offensive Language).\n",
    "df_FADO= df.loc[:,['UniqueComplaintId','Allegation_FADO_Type', 'Allegation_Description']]\n",
    "\n",
    "dummy = pd.get_dummies(df_FADO['Allegation_FADO_Type'])\n",
    "df_indicator = pd.concat([df_FADO, dummy], axis = 1)\n",
    "\n",
    "names = {}\n",
    "for c in df_indicator.columns:\n",
    "    names[c] = c.replace(' ', '_')\n",
    "df_indicator = df_indicator.rename(columns = names)\n",
    "\n",
    "df_indicator.head()"
   ]
  },
  {
   "cell_type": "code",
   "execution_count": 397,
   "metadata": {
    "scrolled": true
   },
   "outputs": [
    {
     "data": {
      "text/html": [
       "<div>\n",
       "<style scoped>\n",
       "    .dataframe tbody tr th:only-of-type {\n",
       "        vertical-align: middle;\n",
       "    }\n",
       "\n",
       "    .dataframe tbody tr th {\n",
       "        vertical-align: top;\n",
       "    }\n",
       "\n",
       "    .dataframe thead th {\n",
       "        text-align: right;\n",
       "    }\n",
       "</style>\n",
       "<table border=\"1\" class=\"dataframe\">\n",
       "  <thead>\n",
       "    <tr style=\"text-align: right;\">\n",
       "      <th></th>\n",
       "      <th>UniqueComplaintId</th>\n",
       "      <th>Abuse_of_Authority</th>\n",
       "      <th>Discourtesy</th>\n",
       "      <th>Force</th>\n",
       "      <th>Offensive_Language</th>\n",
       "    </tr>\n",
       "  </thead>\n",
       "  <tbody>\n",
       "    <tr>\n",
       "      <th>0</th>\n",
       "      <td>1</td>\n",
       "      <td>2</td>\n",
       "      <td>1</td>\n",
       "      <td>2</td>\n",
       "      <td>0</td>\n",
       "    </tr>\n",
       "    <tr>\n",
       "      <th>1</th>\n",
       "      <td>2</td>\n",
       "      <td>2</td>\n",
       "      <td>0</td>\n",
       "      <td>0</td>\n",
       "      <td>0</td>\n",
       "    </tr>\n",
       "    <tr>\n",
       "      <th>2</th>\n",
       "      <td>3</td>\n",
       "      <td>0</td>\n",
       "      <td>1</td>\n",
       "      <td>0</td>\n",
       "      <td>0</td>\n",
       "    </tr>\n",
       "    <tr>\n",
       "      <th>3</th>\n",
       "      <td>4</td>\n",
       "      <td>2</td>\n",
       "      <td>1</td>\n",
       "      <td>0</td>\n",
       "      <td>0</td>\n",
       "    </tr>\n",
       "    <tr>\n",
       "      <th>4</th>\n",
       "      <td>5</td>\n",
       "      <td>0</td>\n",
       "      <td>0</td>\n",
       "      <td>1</td>\n",
       "      <td>0</td>\n",
       "    </tr>\n",
       "  </tbody>\n",
       "</table>\n",
       "</div>"
      ],
      "text/plain": [
       "   UniqueComplaintId  Abuse_of_Authority  Discourtesy  Force  \\\n",
       "0                  1                   2            1      2   \n",
       "1                  2                   2            0      0   \n",
       "2                  3                   0            1      0   \n",
       "3                  4                   2            1      0   \n",
       "4                  5                   0            0      1   \n",
       "\n",
       "   Offensive_Language  \n",
       "0                   0  \n",
       "1                   0  \n",
       "2                   0  \n",
       "3                   0  \n",
       "4                   0  "
      ]
     },
     "execution_count": 397,
     "metadata": {},
     "output_type": "execute_result"
    }
   ],
   "source": [
    "df_ind_1 = df_indicator.groupby('UniqueComplaintId').sum().reset_index()\n",
    "df_ind_2 = df_indicator.groupby('UniqueComplaintId')['Allegation_FADO_Type'].count().reset_index(name = 'Count')\n",
    "df_ind_1.head()"
   ]
  },
  {
   "cell_type": "code",
   "execution_count": 401,
   "metadata": {},
   "outputs": [],
   "source": [
    "df_ind_1.loc[df_ind_1.Abuse_of_Authority > 1, 'Abuse_of_Authority'] = 1\n",
    "df_ind_1.loc[df_ind_1.Discourtesy > 1, 'Discourtesy'] = 1\n",
    "df_ind_1.loc[df_ind_1.Force > 1, 'Force'] = 1\n",
    "df_ind_1.loc[df_ind_1.Offensive_Language > 1, 'Offensive_Language'] = 1"
   ]
  },
  {
   "cell_type": "code",
   "execution_count": 387,
   "metadata": {
    "scrolled": true
   },
   "outputs": [
    {
     "data": {
      "text/html": [
       "<div>\n",
       "<style scoped>\n",
       "    .dataframe tbody tr th:only-of-type {\n",
       "        vertical-align: middle;\n",
       "    }\n",
       "\n",
       "    .dataframe tbody tr th {\n",
       "        vertical-align: top;\n",
       "    }\n",
       "\n",
       "    .dataframe thead th {\n",
       "        text-align: right;\n",
       "    }\n",
       "</style>\n",
       "<table border=\"1\" class=\"dataframe\">\n",
       "  <thead>\n",
       "    <tr style=\"text-align: right;\">\n",
       "      <th></th>\n",
       "      <th>UniqueComplaintId</th>\n",
       "      <th>Count</th>\n",
       "    </tr>\n",
       "  </thead>\n",
       "  <tbody>\n",
       "    <tr>\n",
       "      <th>0</th>\n",
       "      <td>1</td>\n",
       "      <td>5</td>\n",
       "    </tr>\n",
       "    <tr>\n",
       "      <th>1</th>\n",
       "      <td>2</td>\n",
       "      <td>2</td>\n",
       "    </tr>\n",
       "    <tr>\n",
       "      <th>2</th>\n",
       "      <td>3</td>\n",
       "      <td>1</td>\n",
       "    </tr>\n",
       "    <tr>\n",
       "      <th>3</th>\n",
       "      <td>4</td>\n",
       "      <td>3</td>\n",
       "    </tr>\n",
       "    <tr>\n",
       "      <th>4</th>\n",
       "      <td>5</td>\n",
       "      <td>1</td>\n",
       "    </tr>\n",
       "  </tbody>\n",
       "</table>\n",
       "</div>"
      ],
      "text/plain": [
       "   UniqueComplaintId  Count\n",
       "0                  1      5\n",
       "1                  2      2\n",
       "2                  3      1\n",
       "3                  4      3\n",
       "4                  5      1"
      ]
     },
     "execution_count": 387,
     "metadata": {},
     "output_type": "execute_result"
    }
   ],
   "source": [
    "df_ind_2.head()"
   ]
  },
  {
   "cell_type": "code",
   "execution_count": 440,
   "metadata": {
    "scrolled": false
   },
   "outputs": [
    {
     "data": {
      "text/plain": [
       "(68467, 6)"
      ]
     },
     "execution_count": 440,
     "metadata": {},
     "output_type": "execute_result"
    }
   ],
   "source": [
    "df_i = df_ind_1.merge(df_ind_2, on = 'UniqueComplaintId')\n",
    "df_i.shape"
   ]
  },
  {
   "cell_type": "code",
   "execution_count": 441,
   "metadata": {},
   "outputs": [
    {
     "data": {
      "text/plain": [
       "array([2.56970091, 1.60701327, 1.90415894, 1.47685452])"
      ]
     },
     "execution_count": 441,
     "metadata": {},
     "output_type": "execute_result"
    }
   ],
   "source": [
    "Xi = df_i.iloc[:,1:5]\n",
    "yi = df_i.iloc[:,5]\n",
    "\n",
    "ri= linear_model.LinearRegression().fit(Xi,yi)\n",
    "ri.coef_"
   ]
  },
  {
   "cell_type": "code",
   "execution_count": 46,
   "metadata": {},
   "outputs": [
    {
     "data": {
      "text/html": [
       "<div>\n",
       "<style scoped>\n",
       "    .dataframe tbody tr th:only-of-type {\n",
       "        vertical-align: middle;\n",
       "    }\n",
       "\n",
       "    .dataframe tbody tr th {\n",
       "        vertical-align: top;\n",
       "    }\n",
       "\n",
       "    .dataframe thead th {\n",
       "        text-align: right;\n",
       "    }\n",
       "</style>\n",
       "<table border=\"1\" class=\"dataframe\">\n",
       "  <thead>\n",
       "    <tr style=\"text-align: right;\">\n",
       "      <th></th>\n",
       "      <th>Borough_of_Occurrence</th>\n",
       "      <th>ComplaintCount</th>\n",
       "    </tr>\n",
       "  </thead>\n",
       "  <tbody>\n",
       "    <tr>\n",
       "      <th>0</th>\n",
       "      <td>Bronx</td>\n",
       "      <td>15911</td>\n",
       "    </tr>\n",
       "    <tr>\n",
       "      <th>1</th>\n",
       "      <td>Brooklyn</td>\n",
       "      <td>23899</td>\n",
       "    </tr>\n",
       "    <tr>\n",
       "      <th>2</th>\n",
       "      <td>Manhattan</td>\n",
       "      <td>16399</td>\n",
       "    </tr>\n",
       "    <tr>\n",
       "      <th>4</th>\n",
       "      <td>Queens</td>\n",
       "      <td>10816</td>\n",
       "    </tr>\n",
       "    <tr>\n",
       "      <th>5</th>\n",
       "      <td>Staten Island</td>\n",
       "      <td>2819</td>\n",
       "    </tr>\n",
       "  </tbody>\n",
       "</table>\n",
       "</div>"
      ],
      "text/plain": [
       "  Borough_of_Occurrence  ComplaintCount\n",
       "0                 Bronx           15911\n",
       "1              Brooklyn           23899\n",
       "2             Manhattan           16399\n",
       "4                Queens           10816\n",
       "5         Staten Island            2819"
      ]
     },
     "execution_count": 46,
     "metadata": {},
     "output_type": "execute_result"
    }
   ],
   "source": [
    "se_bu = df_all.groupby(['Borough_of_Occurrence','UniqueComplaintId']).size().reset_index(name = 'Count')\n",
    "se_b = se_bu.groupby('Borough_of_Occurrence').size().reset_index(name = 'ComplaintCount')\n",
    "se_b.drop(index = 3, inplace = True)\n",
    "se_b"
   ]
  },
  {
   "cell_type": "code",
   "execution_count": 48,
   "metadata": {
    "scrolled": true
   },
   "outputs": [
    {
     "data": {
      "text/html": [
       "<div>\n",
       "<style scoped>\n",
       "    .dataframe tbody tr th:only-of-type {\n",
       "        vertical-align: middle;\n",
       "    }\n",
       "\n",
       "    .dataframe tbody tr th {\n",
       "        vertical-align: top;\n",
       "    }\n",
       "\n",
       "    .dataframe thead th {\n",
       "        text-align: right;\n",
       "    }\n",
       "</style>\n",
       "<table border=\"1\" class=\"dataframe\">\n",
       "  <thead>\n",
       "    <tr style=\"text-align: right;\">\n",
       "      <th></th>\n",
       "      <th>Borough_of_Occurrence</th>\n",
       "      <th>ComplaintCount</th>\n",
       "      <th>Number_Of_Precinct</th>\n",
       "      <th>Number_Of_Officers_Per_Borough</th>\n",
       "      <th>Number_Of_Officers_Per_Precinct</th>\n",
       "    </tr>\n",
       "  </thead>\n",
       "  <tbody>\n",
       "    <tr>\n",
       "      <th>0</th>\n",
       "      <td>Bronx</td>\n",
       "      <td>15911</td>\n",
       "      <td>12</td>\n",
       "      <td>8201.076685</td>\n",
       "      <td>683.423057</td>\n",
       "    </tr>\n",
       "    <tr>\n",
       "      <th>1</th>\n",
       "      <td>Brooklyn</td>\n",
       "      <td>23899</td>\n",
       "      <td>23</td>\n",
       "      <td>12318.366646</td>\n",
       "      <td>535.581159</td>\n",
       "    </tr>\n",
       "    <tr>\n",
       "      <th>2</th>\n",
       "      <td>Manhattan</td>\n",
       "      <td>16399</td>\n",
       "      <td>22</td>\n",
       "      <td>8452.608671</td>\n",
       "      <td>384.209485</td>\n",
       "    </tr>\n",
       "    <tr>\n",
       "      <th>4</th>\n",
       "      <td>Queens</td>\n",
       "      <td>10816</td>\n",
       "      <td>16</td>\n",
       "      <td>5574.938434</td>\n",
       "      <td>348.433652</td>\n",
       "    </tr>\n",
       "    <tr>\n",
       "      <th>5</th>\n",
       "      <td>Staten Island</td>\n",
       "      <td>2819</td>\n",
       "      <td>4</td>\n",
       "      <td>1453.009564</td>\n",
       "      <td>363.252391</td>\n",
       "    </tr>\n",
       "  </tbody>\n",
       "</table>\n",
       "</div>"
      ],
      "text/plain": [
       "  Borough_of_Occurrence  ComplaintCount  Number_Of_Precinct  \\\n",
       "0                 Bronx           15911                  12   \n",
       "1              Brooklyn           23899                  23   \n",
       "2             Manhattan           16399                  22   \n",
       "4                Queens           10816                  16   \n",
       "5         Staten Island            2819                   4   \n",
       "\n",
       "   Number_Of_Officers_Per_Borough  Number_Of_Officers_Per_Precinct  \n",
       "0                     8201.076685                       683.423057  \n",
       "1                    12318.366646                       535.581159  \n",
       "2                     8452.608671                       384.209485  \n",
       "4                     5574.938434                       348.433652  \n",
       "5                     1453.009564                       363.252391  "
      ]
     },
     "execution_count": 48,
     "metadata": {},
     "output_type": "execute_result"
    }
   ],
   "source": [
    "\n",
    "se_b['Number_Of_Precinct'] = [12,23,22,16,4]\n",
    "#se_b['Population'] = [1455720, 2629150, 1643734,2333054, 476015]\n",
    "#se_b['Complaints_Per_Capita'] = se_b.ComplaintCount/se_b.Population\n",
    "se_b['Number_Of_Officers_Per_Borough'] = se_b.ComplaintCount/se_b.ComplaintCount.sum()*36000\n",
    "se_b['Number_Of_Officers_Per_Precinct'] = se_b.Number_Of_Officers_Per_Borough/se_b.Number_Of_Precinct\n",
    "se_b"
   ]
  },
  {
   "cell_type": "code",
   "execution_count": 50,
   "metadata": {},
   "outputs": [
    {
     "data": {
      "text/plain": [
       "1.9614151874"
      ]
     },
     "execution_count": 50,
     "metadata": {},
     "output_type": "execute_result"
    }
   ],
   "source": [
    "r = se_b.Number_Of_Officers_Per_Precinct.max()/se_b.Number_Of_Officers_Per_Precinct.min()\n",
    "round(r, 10)"
   ]
  }
 ],
 "metadata": {
  "kernelspec": {
   "display_name": "Python 3",
   "language": "python",
   "name": "python3"
  },
  "language_info": {
   "codemirror_mode": {
    "name": "ipython",
    "version": 3
   },
   "file_extension": ".py",
   "mimetype": "text/x-python",
   "name": "python",
   "nbconvert_exporter": "python",
   "pygments_lexer": "ipython3",
   "version": "3.7.0"
  }
 },
 "nbformat": 4,
 "nbformat_minor": 2
}
